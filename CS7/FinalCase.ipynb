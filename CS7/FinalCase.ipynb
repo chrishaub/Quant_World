{
 "cells": [
  {
   "cell_type": "code",
   "execution_count": 1,
   "id": "7449738d",
   "metadata": {},
   "outputs": [],
   "source": [
    "import pandas as pd\n",
    "import numpy as np\n",
    "import matplotlib.pyplot as plt\n",
    "from sklearn.preprocessing import StandardScaler\n",
    "from sklearn.model_selection import train_test_split\n",
    "from sklearn.linear_model import SGDClassifier\n",
    "from sklearn.utils.class_weight import compute_class_weight\n",
    "from sklearn.metrics import confusion_matrix\n",
    "from sklearn.metrics import ConfusionMatrixDisplay\n",
    "from sklearn.metrics import classification_report\n",
    "from scipy.sparse import hstack\n",
    "from sklearn.model_selection import KFold, cross_val_predict\n",
    "from sklearn.utils import class_weight"
   ]
  },
  {
   "cell_type": "code",
   "execution_count": 26,
   "id": "9a87cc7e",
   "metadata": {},
   "outputs": [],
   "source": [
    "data= pd.read_csv('/Users/alonsosalcido/Desktop/Quantifying the World/case 7/final_project.csv')"
   ]
  },
  {
   "cell_type": "code",
   "execution_count": 27,
   "id": "77c1a997",
   "metadata": {},
   "outputs": [
    {
     "data": {
      "text/html": [
       "<div>\n",
       "<style scoped>\n",
       "    .dataframe tbody tr th:only-of-type {\n",
       "        vertical-align: middle;\n",
       "    }\n",
       "\n",
       "    .dataframe tbody tr th {\n",
       "        vertical-align: top;\n",
       "    }\n",
       "\n",
       "    .dataframe thead th {\n",
       "        text-align: right;\n",
       "    }\n",
       "</style>\n",
       "<table border=\"1\" class=\"dataframe\">\n",
       "  <thead>\n",
       "    <tr style=\"text-align: right;\">\n",
       "      <th></th>\n",
       "      <th>x0</th>\n",
       "      <th>x1</th>\n",
       "      <th>x2</th>\n",
       "      <th>x3</th>\n",
       "      <th>x4</th>\n",
       "      <th>x5</th>\n",
       "      <th>x6</th>\n",
       "      <th>x7</th>\n",
       "      <th>x8</th>\n",
       "      <th>x9</th>\n",
       "      <th>...</th>\n",
       "      <th>x41</th>\n",
       "      <th>x42</th>\n",
       "      <th>x43</th>\n",
       "      <th>x44</th>\n",
       "      <th>x45</th>\n",
       "      <th>x46</th>\n",
       "      <th>x47</th>\n",
       "      <th>x48</th>\n",
       "      <th>x49</th>\n",
       "      <th>y</th>\n",
       "    </tr>\n",
       "  </thead>\n",
       "  <tbody>\n",
       "    <tr>\n",
       "      <th>0</th>\n",
       "      <td>-0.166563</td>\n",
       "      <td>-3.961588</td>\n",
       "      <td>4.621113</td>\n",
       "      <td>2.481908</td>\n",
       "      <td>-1.800135</td>\n",
       "      <td>0.804684</td>\n",
       "      <td>6.718751</td>\n",
       "      <td>-14.789997</td>\n",
       "      <td>-1.040673</td>\n",
       "      <td>-4.204950</td>\n",
       "      <td>...</td>\n",
       "      <td>-1.497117</td>\n",
       "      <td>5.414063</td>\n",
       "      <td>-2.325655</td>\n",
       "      <td>1.674827</td>\n",
       "      <td>-0.264332</td>\n",
       "      <td>60.781427</td>\n",
       "      <td>-7.689696</td>\n",
       "      <td>0.151589</td>\n",
       "      <td>-8.040166</td>\n",
       "      <td>0</td>\n",
       "    </tr>\n",
       "    <tr>\n",
       "      <th>1</th>\n",
       "      <td>-0.149894</td>\n",
       "      <td>-0.585676</td>\n",
       "      <td>27.839856</td>\n",
       "      <td>4.152333</td>\n",
       "      <td>6.426802</td>\n",
       "      <td>-2.426943</td>\n",
       "      <td>40.477058</td>\n",
       "      <td>-6.725709</td>\n",
       "      <td>0.896421</td>\n",
       "      <td>0.330165</td>\n",
       "      <td>...</td>\n",
       "      <td>36.292790</td>\n",
       "      <td>4.490915</td>\n",
       "      <td>0.762561</td>\n",
       "      <td>6.526662</td>\n",
       "      <td>1.007927</td>\n",
       "      <td>15.805696</td>\n",
       "      <td>-4.896678</td>\n",
       "      <td>-0.320283</td>\n",
       "      <td>16.719974</td>\n",
       "      <td>0</td>\n",
       "    </tr>\n",
       "    <tr>\n",
       "      <th>2</th>\n",
       "      <td>-0.321707</td>\n",
       "      <td>-1.429819</td>\n",
       "      <td>12.251561</td>\n",
       "      <td>6.586874</td>\n",
       "      <td>-5.304647</td>\n",
       "      <td>-11.311090</td>\n",
       "      <td>17.812850</td>\n",
       "      <td>11.060572</td>\n",
       "      <td>5.325880</td>\n",
       "      <td>-2.632984</td>\n",
       "      <td>...</td>\n",
       "      <td>-0.368491</td>\n",
       "      <td>9.088864</td>\n",
       "      <td>-0.689886</td>\n",
       "      <td>-2.731118</td>\n",
       "      <td>0.754200</td>\n",
       "      <td>30.856417</td>\n",
       "      <td>-7.428573</td>\n",
       "      <td>-2.090804</td>\n",
       "      <td>-7.869421</td>\n",
       "      <td>0</td>\n",
       "    </tr>\n",
       "    <tr>\n",
       "      <th>3</th>\n",
       "      <td>-0.245594</td>\n",
       "      <td>5.076677</td>\n",
       "      <td>-24.149632</td>\n",
       "      <td>3.637307</td>\n",
       "      <td>6.505811</td>\n",
       "      <td>2.290224</td>\n",
       "      <td>-35.111751</td>\n",
       "      <td>-18.913592</td>\n",
       "      <td>-0.337041</td>\n",
       "      <td>-5.568076</td>\n",
       "      <td>...</td>\n",
       "      <td>15.691546</td>\n",
       "      <td>-7.467775</td>\n",
       "      <td>2.940789</td>\n",
       "      <td>-6.424112</td>\n",
       "      <td>0.419776</td>\n",
       "      <td>-72.424569</td>\n",
       "      <td>5.361375</td>\n",
       "      <td>1.806070</td>\n",
       "      <td>-7.670847</td>\n",
       "      <td>0</td>\n",
       "    </tr>\n",
       "    <tr>\n",
       "      <th>4</th>\n",
       "      <td>-0.273366</td>\n",
       "      <td>0.306326</td>\n",
       "      <td>-11.352593</td>\n",
       "      <td>1.676758</td>\n",
       "      <td>2.928441</td>\n",
       "      <td>-0.616824</td>\n",
       "      <td>-16.505817</td>\n",
       "      <td>27.532281</td>\n",
       "      <td>1.199715</td>\n",
       "      <td>-4.309105</td>\n",
       "      <td>...</td>\n",
       "      <td>-13.911297</td>\n",
       "      <td>-5.229937</td>\n",
       "      <td>1.783928</td>\n",
       "      <td>3.957801</td>\n",
       "      <td>-0.096988</td>\n",
       "      <td>-14.085435</td>\n",
       "      <td>-0.208351</td>\n",
       "      <td>-0.894942</td>\n",
       "      <td>15.724742</td>\n",
       "      <td>1</td>\n",
       "    </tr>\n",
       "  </tbody>\n",
       "</table>\n",
       "<p>5 rows × 51 columns</p>\n",
       "</div>"
      ],
      "text/plain": [
       "         x0        x1         x2        x3        x4         x5         x6  \\\n",
       "0 -0.166563 -3.961588   4.621113  2.481908 -1.800135   0.804684   6.718751   \n",
       "1 -0.149894 -0.585676  27.839856  4.152333  6.426802  -2.426943  40.477058   \n",
       "2 -0.321707 -1.429819  12.251561  6.586874 -5.304647 -11.311090  17.812850   \n",
       "3 -0.245594  5.076677 -24.149632  3.637307  6.505811   2.290224 -35.111751   \n",
       "4 -0.273366  0.306326 -11.352593  1.676758  2.928441  -0.616824 -16.505817   \n",
       "\n",
       "          x7        x8        x9  ...        x41       x42       x43  \\\n",
       "0 -14.789997 -1.040673 -4.204950  ...  -1.497117  5.414063 -2.325655   \n",
       "1  -6.725709  0.896421  0.330165  ...  36.292790  4.490915  0.762561   \n",
       "2  11.060572  5.325880 -2.632984  ...  -0.368491  9.088864 -0.689886   \n",
       "3 -18.913592 -0.337041 -5.568076  ...  15.691546 -7.467775  2.940789   \n",
       "4  27.532281  1.199715 -4.309105  ... -13.911297 -5.229937  1.783928   \n",
       "\n",
       "        x44       x45        x46       x47       x48        x49  y  \n",
       "0  1.674827 -0.264332  60.781427 -7.689696  0.151589  -8.040166  0  \n",
       "1  6.526662  1.007927  15.805696 -4.896678 -0.320283  16.719974  0  \n",
       "2 -2.731118  0.754200  30.856417 -7.428573 -2.090804  -7.869421  0  \n",
       "3 -6.424112  0.419776 -72.424569  5.361375  1.806070  -7.670847  0  \n",
       "4  3.957801 -0.096988 -14.085435 -0.208351 -0.894942  15.724742  1  \n",
       "\n",
       "[5 rows x 51 columns]"
      ]
     },
     "execution_count": 27,
     "metadata": {},
     "output_type": "execute_result"
    }
   ],
   "source": [
    "data.head()"
   ]
  },
  {
   "cell_type": "code",
   "execution_count": 28,
   "id": "2e6298a2",
   "metadata": {},
   "outputs": [
    {
     "data": {
      "text/plain": [
       "(160000, 51)"
      ]
     },
     "execution_count": 28,
     "metadata": {},
     "output_type": "execute_result"
    }
   ],
   "source": [
    "data.shape"
   ]
  },
  {
   "cell_type": "code",
   "execution_count": 29,
   "id": "8bf02ac3",
   "metadata": {},
   "outputs": [],
   "source": [
    "#Split Dataset into X and Y\n",
    "x= data.iloc[:,:50]\n",
    "y=data['y']"
   ]
  },
  {
   "cell_type": "markdown",
   "id": "15b6aab2",
   "metadata": {},
   "source": [
    "### Visualize Dependent Variable"
   ]
  },
  {
   "cell_type": "code",
   "execution_count": 30,
   "id": "68ff2140",
   "metadata": {},
   "outputs": [
    {
     "data": {
      "image/png": "[encoded data removed]",
      "text/plain": [
       "<Figure size 504x576 with 1 Axes>"
      ]
     },
     "metadata": {
      "needs_background": "light"
     },
     "output_type": "display_data"
    },
    {
     "name": "stdout",
     "output_type": "stream",
     "text": [
      "0    59.876875\n",
      "1    40.123125\n",
      "Name: y, dtype: float64\n"
     ]
    }
   ],
   "source": [
    "# Compute the frequency of each color value and divide by the total count to get percentages\n",
    "counts = y.value_counts(normalize=True) * 100\n",
    "\n",
    "# Set Fig Size\n",
    "fig, ax = plt.subplots(figsize=(7, 8))\n",
    "\n",
    "# Create a bar plot of the result\n",
    "ax = counts.plot(kind='bar', rot=0)\n",
    "\n",
    "# Add labels and a title to the plot\n",
    "ax.set_xlabel('Label')\n",
    "ax.set_ylabel('Percentage')\n",
    "ax.set_title('Percentage of Dependent Variable')\n",
    "\n",
    "\n",
    "# Display the plot\n",
    "plt.show()\n",
    "print(counts)"
   ]
  },
  {
   "cell_type": "markdown",
   "id": "591bb731",
   "metadata": {},
   "source": [
    "## Explore Variables"
   ]
  },
  {
   "cell_type": "code",
   "execution_count": 31,
   "id": "92c470ce",
   "metadata": {},
   "outputs": [
    {
     "data": {
      "text/plain": [
       "x0     float64\n",
       "x1     float64\n",
       "x2     float64\n",
       "x3     float64\n",
       "x4     float64\n",
       "x5     float64\n",
       "x6     float64\n",
       "x7     float64\n",
       "x8     float64\n",
       "x9     float64\n",
       "x10    float64\n",
       "x11    float64\n",
       "x12    float64\n",
       "x13    float64\n",
       "x14    float64\n",
       "x15    float64\n",
       "x16    float64\n",
       "x17    float64\n",
       "x18    float64\n",
       "x19    float64\n",
       "x20    float64\n",
       "x21    float64\n",
       "x22    float64\n",
       "x23    float64\n",
       "x24     object\n",
       "x25    float64\n",
       "x26    float64\n",
       "x27    float64\n",
       "x28    float64\n",
       "x29     object\n",
       "x30     object\n",
       "x31    float64\n",
       "x32     object\n",
       "x33    float64\n",
       "x34    float64\n",
       "x35    float64\n",
       "x36    float64\n",
       "x37     object\n",
       "x38    float64\n",
       "x39    float64\n",
       "x40    float64\n",
       "x41    float64\n",
       "x42    float64\n",
       "x43    float64\n",
       "x44    float64\n",
       "x45    float64\n",
       "x46    float64\n",
       "x47    float64\n",
       "x48    float64\n",
       "x49    float64\n",
       "dtype: object"
      ]
     },
     "execution_count": 31,
     "metadata": {},
     "output_type": "execute_result"
    }
   ],
   "source": [
    "x.dtypes"
   ]
  },
  {
   "cell_type": "markdown",
   "id": "2f27cd6e",
   "metadata": {},
   "source": [
    "### Explore Categorical Variables"
   ]
  },
  {
   "cell_type": "code",
   "execution_count": 32,
   "id": "41245453",
   "metadata": {},
   "outputs": [
    {
     "data": {
      "text/plain": [
       "array(['euorpe', 'asia', 'america', nan], dtype=object)"
      ]
     },
     "execution_count": 32,
     "metadata": {},
     "output_type": "execute_result"
    }
   ],
   "source": [
    "x['x24'].unique()"
   ]
  },
  {
   "cell_type": "code",
   "execution_count": 33,
   "id": "3cf93442",
   "metadata": {},
   "outputs": [
    {
     "data": {
      "image/png": "[encoded data removed]",
      "text/plain": [
       "<Figure size 504x576 with 1 Axes>"
      ]
     },
     "metadata": {
      "needs_background": "light"
     },
     "output_type": "display_data"
    },
    {
     "name": "stdout",
     "output_type": "stream",
     "text": [
      "asia       86.853125\n",
      "euorpe     10.336250\n",
      "america     2.793125\n",
      "NaN         0.017500\n",
      "Name: x24, dtype: float64\n"
     ]
    }
   ],
   "source": [
    "# Compute the frequency of each color value and divide by the total count to get percentages\n",
    "counts = x['x24'].value_counts(normalize=True, dropna=False) * 100\n",
    "\n",
    "# Set Fig Size\n",
    "fig, ax = plt.subplots(figsize=(7, 8))\n",
    "\n",
    "# Create a bar plot of the result\n",
    "ax = counts.plot(kind='bar', rot=0)\n",
    "\n",
    "# Add labels and a title to the plot\n",
    "ax.set_xlabel('Label')\n",
    "ax.set_ylabel('Percentage')\n",
    "ax.set_title('Percentages')\n",
    "\n",
    "\n",
    "# Display the plot\n",
    "plt.show()\n",
    "print(counts)"
   ]
  },
  {
   "cell_type": "code",
   "execution_count": 34,
   "id": "88c2d6d8",
   "metadata": {},
   "outputs": [],
   "source": [
    "# Replace NaN values with mode\n",
    "mode = x['x24'].mode().iloc[0]\n",
    "x['x24'] = x['x24'].fillna(mode)"
   ]
  },
  {
   "cell_type": "code",
   "execution_count": 35,
   "id": "d8c07a7f",
   "metadata": {},
   "outputs": [
    {
     "data": {
      "text/plain": [
       "array(['July', 'Aug', 'Jun', 'May', 'sept.', 'Apr', 'Nov', 'Oct', nan,\n",
       "       'Mar', 'Feb', 'Dev', 'January'], dtype=object)"
      ]
     },
     "execution_count": 35,
     "metadata": {},
     "output_type": "execute_result"
    }
   ],
   "source": [
    "x['x29'].unique()"
   ]
  },
  {
   "cell_type": "code",
   "execution_count": 36,
   "id": "c69616aa",
   "metadata": {},
   "outputs": [
    {
     "data": {
      "image/png": "[encoded data removed]",
      "text/plain": [
       "<Figure size 504x576 with 1 Axes>"
      ]
     },
     "metadata": {
      "needs_background": "light"
     },
     "output_type": "display_data"
    },
    {
     "name": "stdout",
     "output_type": "stream",
     "text": [
      "July       28.480625\n",
      "Jun        25.830625\n",
      "Aug        18.378750\n",
      "May        13.711875\n",
      "sept.       6.761875\n",
      "Apr         4.225625\n",
      "Oct         1.504375\n",
      "Mar         0.769375\n",
      "Nov         0.210625\n",
      "Feb         0.087500\n",
      "NaN         0.018750\n",
      "Dev         0.014375\n",
      "January     0.005625\n",
      "Name: x29, dtype: float64\n"
     ]
    }
   ],
   "source": [
    "# Compute the frequency of each color value and divide by the total count to get percentages\n",
    "counts = x['x29'].value_counts(normalize=True, dropna=False) * 100\n",
    "\n",
    "# Set Fig Size\n",
    "fig, ax = plt.subplots(figsize=(7, 8))\n",
    "\n",
    "# Create a bar plot of the result\n",
    "ax = counts.plot(kind='bar', rot=0)\n",
    "\n",
    "# Add labels and a title to the plot\n",
    "ax.set_xlabel('Label')\n",
    "ax.set_ylabel('Percentage')\n",
    "ax.set_title('Percentages')\n",
    "\n",
    "\n",
    "# Display the plot\n",
    "plt.show()\n",
    "print(counts)"
   ]
  },
  {
   "cell_type": "code",
   "execution_count": 37,
   "id": "4207f859",
   "metadata": {},
   "outputs": [],
   "source": [
    "# Replace NaN values with mode\n",
    "mode = x['x29'].mode().iloc[0]\n",
    "x['x29'] = x['x29'].fillna(mode)"
   ]
  },
  {
   "cell_type": "code",
   "execution_count": 38,
   "id": "96f92e3c",
   "metadata": {},
   "outputs": [
    {
     "data": {
      "text/plain": [
       "array(['tuesday', 'wednesday', 'thurday', 'monday', 'friday', nan],\n",
       "      dtype=object)"
      ]
     },
     "execution_count": 38,
     "metadata": {},
     "output_type": "execute_result"
    }
   ],
   "source": [
    "x['x30'].unique()"
   ]
  },
  {
   "cell_type": "code",
   "execution_count": 39,
   "id": "421daf4f",
   "metadata": {},
   "outputs": [
    {
     "data": {
      "image/png": "[encoded data removed]",
      "text/plain": [
       "<Figure size 504x576 with 1 Axes>"
      ]
     },
     "metadata": {
      "needs_background": "light"
     },
     "output_type": "display_data"
    },
    {
     "name": "stdout",
     "output_type": "stream",
     "text": [
      "wednesday    63.459375\n",
      "thurday      18.393125\n",
      "tuesday      17.471250\n",
      "friday        0.352500\n",
      "monday        0.305000\n",
      "NaN           0.018750\n",
      "Name: x30, dtype: float64\n"
     ]
    }
   ],
   "source": [
    "# Compute the frequency of each color value and divide by the total count to get percentages\n",
    "counts = x['x30'].value_counts(normalize=True, dropna=False) * 100\n",
    "\n",
    "# Set Fig Size\n",
    "fig, ax = plt.subplots(figsize=(7, 8))\n",
    "\n",
    "# Create a bar plot of the result\n",
    "ax = counts.plot(kind='bar', rot=0)\n",
    "\n",
    "# Add labels and a title to the plot\n",
    "ax.set_xlabel('Label')\n",
    "ax.set_ylabel('Percentage')\n",
    "ax.set_title('Percentages')\n",
    "\n",
    "\n",
    "# Display the plot\n",
    "plt.show()\n",
    "print(counts)"
   ]
  },
  {
   "cell_type": "code",
   "execution_count": 40,
   "id": "2e7b2c84",
   "metadata": {},
   "outputs": [],
   "source": [
    "# Replace NaN values with mode\n",
    "mode = x['x30'].mode().iloc[0]\n",
    "x['x30'] = x['x30'].fillna(mode)"
   ]
  },
  {
   "cell_type": "code",
   "execution_count": 41,
   "id": "7462207a",
   "metadata": {},
   "outputs": [
    {
     "data": {
      "text/plain": [
       "array(['0.0%', '-0.02%', '-0.01%', '0.01%', '-0.03%', '0.02%', '-0.0%',\n",
       "       '-0.04%', nan, '0.03%', '0.04%', '-0.05%', '0.05%'], dtype=object)"
      ]
     },
     "execution_count": 41,
     "metadata": {},
     "output_type": "execute_result"
    }
   ],
   "source": [
    "x['x32'].unique()"
   ]
  },
  {
   "cell_type": "code",
   "execution_count": 42,
   "id": "fbc86696",
   "metadata": {},
   "outputs": [],
   "source": [
    "# Replace NaN values with mode\n",
    "mode = x['x32'].mode().iloc[0]\n",
    "x['x32'] = x['x32'].fillna(mode)"
   ]
  },
  {
   "cell_type": "code",
   "execution_count": 43,
   "id": "2af26ff8",
   "metadata": {},
   "outputs": [
    {
     "data": {
      "text/plain": [
       "0    0.00\n",
       "1   -0.02\n",
       "2   -0.01\n",
       "3    0.01\n",
       "4    0.01\n",
       "Name: x32, dtype: float64"
      ]
     },
     "execution_count": 43,
     "metadata": {},
     "output_type": "execute_result"
    }
   ],
   "source": [
    "# 'x32' can be reformatted and used as Numerical\n",
    "x['x32'] = x['x32'].str[:-1]\n",
    "x['x32'] = x['x32'].astype(float)\n",
    "x['x32'].head()"
   ]
  },
  {
   "cell_type": "code",
   "execution_count": 44,
   "id": "7c93e68b",
   "metadata": {},
   "outputs": [
    {
     "data": {
      "text/plain": [
       "array(['$1313.96', '$1962.78', '$430.47', ..., '$1588.65', '$439.21',\n",
       "       '$-1229.34'], dtype=object)"
      ]
     },
     "execution_count": 44,
     "metadata": {},
     "output_type": "execute_result"
    }
   ],
   "source": [
    "data['x37'].unique()"
   ]
  },
  {
   "cell_type": "code",
   "execution_count": 45,
   "id": "783eb38b",
   "metadata": {},
   "outputs": [
    {
     "data": {
      "text/plain": [
       "0    1313.96\n",
       "1    1962.78\n",
       "2     430.47\n",
       "3   -2366.29\n",
       "4    -620.66\n",
       "Name: x37, dtype: float64"
      ]
     },
     "execution_count": 45,
     "metadata": {},
     "output_type": "execute_result"
    }
   ],
   "source": [
    "# 'x37' can be reformatted and used as Numerical\n",
    "x['x37'] = x['x37'].str[1:]\n",
    "x['x37'] = x['x37'].astype(float)\n",
    "x['x37'].head()"
   ]
  },
  {
   "cell_type": "markdown",
   "id": "ffe239f0",
   "metadata": {},
   "source": [
    "### Create Dummy Variables on Categorical Variables"
   ]
  },
  {
   "cell_type": "code",
   "execution_count": 46,
   "id": "901b1d9e",
   "metadata": {},
   "outputs": [],
   "source": [
    "# Create dummy variables\n",
    "x24 = pd.get_dummies(x['x24'])\n",
    "x29 = pd.get_dummies(x['x29'])\n",
    "x30 = pd.get_dummies(x['x30'])"
   ]
  },
  {
   "cell_type": "code",
   "execution_count": 47,
   "id": "71022ad7",
   "metadata": {},
   "outputs": [
    {
     "data": {
      "text/html": [
       "<div>\n",
       "<style scoped>\n",
       "    .dataframe tbody tr th:only-of-type {\n",
       "        vertical-align: middle;\n",
       "    }\n",
       "\n",
       "    .dataframe tbody tr th {\n",
       "        vertical-align: top;\n",
       "    }\n",
       "\n",
       "    .dataframe thead th {\n",
       "        text-align: right;\n",
       "    }\n",
       "</style>\n",
       "<table border=\"1\" class=\"dataframe\">\n",
       "  <thead>\n",
       "    <tr style=\"text-align: right;\">\n",
       "      <th></th>\n",
       "      <th>america</th>\n",
       "      <th>asia</th>\n",
       "      <th>euorpe</th>\n",
       "      <th>Apr</th>\n",
       "      <th>Aug</th>\n",
       "      <th>Dev</th>\n",
       "      <th>Feb</th>\n",
       "      <th>January</th>\n",
       "      <th>July</th>\n",
       "      <th>Jun</th>\n",
       "      <th>Mar</th>\n",
       "      <th>May</th>\n",
       "      <th>Nov</th>\n",
       "      <th>Oct</th>\n",
       "      <th>sept.</th>\n",
       "      <th>friday</th>\n",
       "      <th>monday</th>\n",
       "      <th>thurday</th>\n",
       "      <th>tuesday</th>\n",
       "      <th>wednesday</th>\n",
       "    </tr>\n",
       "  </thead>\n",
       "  <tbody>\n",
       "    <tr>\n",
       "      <th>0</th>\n",
       "      <td>0</td>\n",
       "      <td>0</td>\n",
       "      <td>1</td>\n",
       "      <td>0</td>\n",
       "      <td>0</td>\n",
       "      <td>0</td>\n",
       "      <td>0</td>\n",
       "      <td>0</td>\n",
       "      <td>1</td>\n",
       "      <td>0</td>\n",
       "      <td>0</td>\n",
       "      <td>0</td>\n",
       "      <td>0</td>\n",
       "      <td>0</td>\n",
       "      <td>0</td>\n",
       "      <td>0</td>\n",
       "      <td>0</td>\n",
       "      <td>0</td>\n",
       "      <td>1</td>\n",
       "      <td>0</td>\n",
       "    </tr>\n",
       "    <tr>\n",
       "      <th>1</th>\n",
       "      <td>0</td>\n",
       "      <td>1</td>\n",
       "      <td>0</td>\n",
       "      <td>0</td>\n",
       "      <td>1</td>\n",
       "      <td>0</td>\n",
       "      <td>0</td>\n",
       "      <td>0</td>\n",
       "      <td>0</td>\n",
       "      <td>0</td>\n",
       "      <td>0</td>\n",
       "      <td>0</td>\n",
       "      <td>0</td>\n",
       "      <td>0</td>\n",
       "      <td>0</td>\n",
       "      <td>0</td>\n",
       "      <td>0</td>\n",
       "      <td>0</td>\n",
       "      <td>0</td>\n",
       "      <td>1</td>\n",
       "    </tr>\n",
       "    <tr>\n",
       "      <th>2</th>\n",
       "      <td>0</td>\n",
       "      <td>1</td>\n",
       "      <td>0</td>\n",
       "      <td>0</td>\n",
       "      <td>0</td>\n",
       "      <td>0</td>\n",
       "      <td>0</td>\n",
       "      <td>0</td>\n",
       "      <td>1</td>\n",
       "      <td>0</td>\n",
       "      <td>0</td>\n",
       "      <td>0</td>\n",
       "      <td>0</td>\n",
       "      <td>0</td>\n",
       "      <td>0</td>\n",
       "      <td>0</td>\n",
       "      <td>0</td>\n",
       "      <td>0</td>\n",
       "      <td>0</td>\n",
       "      <td>1</td>\n",
       "    </tr>\n",
       "    <tr>\n",
       "      <th>3</th>\n",
       "      <td>0</td>\n",
       "      <td>1</td>\n",
       "      <td>0</td>\n",
       "      <td>0</td>\n",
       "      <td>0</td>\n",
       "      <td>0</td>\n",
       "      <td>0</td>\n",
       "      <td>0</td>\n",
       "      <td>1</td>\n",
       "      <td>0</td>\n",
       "      <td>0</td>\n",
       "      <td>0</td>\n",
       "      <td>0</td>\n",
       "      <td>0</td>\n",
       "      <td>0</td>\n",
       "      <td>0</td>\n",
       "      <td>0</td>\n",
       "      <td>0</td>\n",
       "      <td>0</td>\n",
       "      <td>1</td>\n",
       "    </tr>\n",
       "    <tr>\n",
       "      <th>4</th>\n",
       "      <td>0</td>\n",
       "      <td>1</td>\n",
       "      <td>0</td>\n",
       "      <td>0</td>\n",
       "      <td>0</td>\n",
       "      <td>0</td>\n",
       "      <td>0</td>\n",
       "      <td>0</td>\n",
       "      <td>1</td>\n",
       "      <td>0</td>\n",
       "      <td>0</td>\n",
       "      <td>0</td>\n",
       "      <td>0</td>\n",
       "      <td>0</td>\n",
       "      <td>0</td>\n",
       "      <td>0</td>\n",
       "      <td>0</td>\n",
       "      <td>0</td>\n",
       "      <td>1</td>\n",
       "      <td>0</td>\n",
       "    </tr>\n",
       "  </tbody>\n",
       "</table>\n",
       "</div>"
      ],
      "text/plain": [
       "   america  asia  euorpe  Apr  Aug  Dev  Feb  January  July  Jun  Mar  May  \\\n",
       "0        0     0       1    0    0    0    0        0     1    0    0    0   \n",
       "1        0     1       0    0    1    0    0        0     0    0    0    0   \n",
       "2        0     1       0    0    0    0    0        0     1    0    0    0   \n",
       "3        0     1       0    0    0    0    0        0     1    0    0    0   \n",
       "4        0     1       0    0    0    0    0        0     1    0    0    0   \n",
       "\n",
       "   Nov  Oct  sept.  friday  monday  thurday  tuesday  wednesday  \n",
       "0    0    0      0       0       0        0        1          0  \n",
       "1    0    0      0       0       0        0        0          1  \n",
       "2    0    0      0       0       0        0        0          1  \n",
       "3    0    0      0       0       0        0        0          1  \n",
       "4    0    0      0       0       0        0        1          0  "
      ]
     },
     "execution_count": 47,
     "metadata": {},
     "output_type": "execute_result"
    }
   ],
   "source": [
    "# Drop categorical columns\n",
    "x = x.drop(['x24', 'x29', 'x30'], axis=1)\n",
    "\n",
    "# Combine Original df and Dummy Variables\n",
    "bool_cols = pd.concat([x24, x29, x30], axis=1)\n",
    "bool_cols.head()"
   ]
  },
  {
   "cell_type": "code",
   "execution_count": 48,
   "id": "38dc86dd",
   "metadata": {},
   "outputs": [
    {
     "data": {
      "text/plain": [
       "x0     26\n",
       "x1     25\n",
       "x2     38\n",
       "x3     37\n",
       "x4     26\n",
       "x5     37\n",
       "x6     26\n",
       "x7     27\n",
       "x8     21\n",
       "x9     30\n",
       "x10    43\n",
       "x11    30\n",
       "x12    36\n",
       "x13    31\n",
       "x14    34\n",
       "x15    35\n",
       "x16    26\n",
       "x17    27\n",
       "x18    40\n",
       "x19    35\n",
       "x20    38\n",
       "x21    29\n",
       "x22    27\n",
       "x23    47\n",
       "x25    22\n",
       "x26    36\n",
       "x27    30\n",
       "x28    35\n",
       "x31    39\n",
       "x32     0\n",
       "x33    41\n",
       "x34    41\n",
       "x35    30\n",
       "x36    27\n",
       "x37    23\n",
       "x38    31\n",
       "x39    23\n",
       "x40    36\n",
       "x41    40\n",
       "x42    26\n",
       "x43    37\n",
       "x44    40\n",
       "x45    29\n",
       "x46    31\n",
       "x47    37\n",
       "x48    32\n",
       "x49    32\n",
       "dtype: int64"
      ]
     },
     "execution_count": 48,
     "metadata": {},
     "output_type": "execute_result"
    }
   ],
   "source": [
    "x.isnull().sum()"
   ]
  },
  {
   "cell_type": "code",
   "execution_count": 49,
   "id": "ae75e7b0",
   "metadata": {},
   "outputs": [
    {
     "data": {
      "text/plain": [
       "x0     0\n",
       "x1     0\n",
       "x2     0\n",
       "x3     0\n",
       "x4     0\n",
       "x5     0\n",
       "x6     0\n",
       "x7     0\n",
       "x8     0\n",
       "x9     0\n",
       "x10    0\n",
       "x11    0\n",
       "x12    0\n",
       "x13    0\n",
       "x14    0\n",
       "x15    0\n",
       "x16    0\n",
       "x17    0\n",
       "x18    0\n",
       "x19    0\n",
       "x20    0\n",
       "x21    0\n",
       "x22    0\n",
       "x23    0\n",
       "x25    0\n",
       "x26    0\n",
       "x27    0\n",
       "x28    0\n",
       "x31    0\n",
       "x32    0\n",
       "x33    0\n",
       "x34    0\n",
       "x35    0\n",
       "x36    0\n",
       "x37    0\n",
       "x38    0\n",
       "x39    0\n",
       "x40    0\n",
       "x41    0\n",
       "x42    0\n",
       "x43    0\n",
       "x44    0\n",
       "x45    0\n",
       "x46    0\n",
       "x47    0\n",
       "x48    0\n",
       "x49    0\n",
       "dtype: int64"
      ]
     },
     "execution_count": 49,
     "metadata": {},
     "output_type": "execute_result"
    }
   ],
   "source": [
    "# Fill null values with the mean of each column\n",
    "x = x.fillna(x.mean())\n",
    "x.isnull().sum()"
   ]
  },
  {
   "cell_type": "markdown",
   "id": "3441a5f1",
   "metadata": {},
   "source": [
    "### 80/20 Split"
   ]
  },
  {
   "cell_type": "code",
   "execution_count": 50,
   "id": "3b87b340",
   "metadata": {},
   "outputs": [
    {
     "name": "stdout",
     "output_type": "stream",
     "text": [
      "CPU times: user 182 ms, sys: 45.3 ms, total: 227 ms\n",
      "Wall time: 233 ms\n"
     ]
    }
   ],
   "source": [
    "%%time\n",
    "\n",
    "# split data into training and testing sets 80/20\n",
    "X_train_bool, X_test_bool, y_train, y_test = train_test_split(bool_cols, y, test_size=0.2, stratify=y, random_state=42)\n",
    "X_train_non_bool, X_test_non_bool, _, _ = train_test_split(x, y, test_size=0.2, stratify=y, random_state=42)"
   ]
  },
  {
   "cell_type": "code",
   "execution_count": 51,
   "id": "56fdb561",
   "metadata": {},
   "outputs": [
    {
     "data": {
      "text/plain": [
       "StandardScaler(with_mean=False)"
      ]
     },
     "execution_count": 51,
     "metadata": {},
     "output_type": "execute_result"
    }
   ],
   "source": [
    "# create a StandardScaler object and fit on the non-boolean training set only\n",
    "scaler = StandardScaler(with_mean=False)\n",
    "scaler.fit(X_train_non_bool)"
   ]
  },
  {
   "cell_type": "code",
   "execution_count": 52,
   "id": "76b15f47",
   "metadata": {},
   "outputs": [],
   "source": [
    "# transform the non-boolean training and testing sets using the scaler\n",
    "X_train_non_bool_scaled = scaler.transform(X_train_non_bool)\n",
    "X_test_non_bool_scaled = scaler.transform(X_test_non_bool)"
   ]
  },
  {
   "cell_type": "code",
   "execution_count": 53,
   "id": "d10e6936",
   "metadata": {},
   "outputs": [],
   "source": [
    "# concatenate scaled non-boolean columns and boolean columns along axis 1\n",
    "X_train = np.hstack((X_train_non_bool_scaled, X_train_bool))\n",
    "X_test = np.hstack((X_test_non_bool_scaled, X_test_bool))"
   ]
  },
  {
   "cell_type": "markdown",
   "id": "8b637a94",
   "metadata": {},
   "source": [
    "## SDG Classifier"
   ]
  },
  {
   "cell_type": "code",
   "execution_count": 186,
   "id": "b20abd45",
   "metadata": {},
   "outputs": [],
   "source": [
    "# Compute class weights\n",
    "classes = [0, 1]\n",
    "weights = compute_class_weight('balanced', classes=classes, y=y_train)"
   ]
  },
  {
   "cell_type": "code",
   "execution_count": 187,
   "id": "17813345",
   "metadata": {},
   "outputs": [],
   "source": [
    "# Create SGDClassifier object with partial_fit method\n",
    "clf = SGDClassifier(loss='log', max_iter=1000, tol=1e-3, random_state=42, alpha=.0001)"
   ]
  },
  {
   "cell_type": "code",
   "execution_count": 188,
   "id": "b5070d8b",
   "metadata": {},
   "outputs": [
    {
     "name": "stdout",
     "output_type": "stream",
     "text": [
      "CPU times: user 1.12 s, sys: 78 ms, total: 1.19 s\n",
      "Wall time: 1.22 s\n"
     ]
    }
   ],
   "source": [
    "%%time\n",
    "from sklearn.utils import shuffle\n",
    "from tqdm import tqdm\n",
    "\n",
    "# Set number of epochs and shuffle data before each epoch\n",
    "num_epochs = 10\n",
    "for epoch in range(num_epochs):\n",
    "    X_train, y_train = shuffle(X_train, y_train, random_state=epoch)\n",
    "    clf.partial_fit(X_train, y_train, classes=classes, sample_weight=weights[y_train])"
   ]
  },
  {
   "cell_type": "code",
   "execution_count": 189,
   "id": "1b8ec66c",
   "metadata": {},
   "outputs": [
    {
     "data": {
      "text/plain": [
       "<sklearn.metrics._plot.confusion_matrix.ConfusionMatrixDisplay at 0x7fadb3beff10>"
      ]
     },
     "execution_count": 189,
     "metadata": {},
     "output_type": "execute_result"
    },
    {
     "data": {
      "image/png": "[encoded data removed]",
      "text/plain": [
       "<Figure size 432x288 with 2 Axes>"
      ]
     },
     "metadata": {
      "needs_background": "light"
     },
     "output_type": "display_data"
    }
   ],
   "source": [
    "# Define the class labels as a list\n",
    "class_labels = ['0', '1']\n",
    "\n",
    "# Predict the classes on test data\n",
    "preds = clf.predict(X_test)\n",
    "\n",
    "# Compute the confusion matrix\n",
    "cm = confusion_matrix(y_test, preds)\n",
    "\n",
    "# Display the confusion matrix\n",
    "disp = ConfusionMatrixDisplay(confusion_matrix=cm, display_labels=class_labels)\n",
    "disp.plot()"
   ]
  },
  {
   "cell_type": "code",
   "execution_count": 190,
   "id": "b25afdad",
   "metadata": {},
   "outputs": [
    {
     "name": "stdout",
     "output_type": "stream",
     "text": [
      "              precision    recall  f1-score   support\n",
      "\n",
      "           0       0.76      0.68      0.72     19161\n",
      "           1       0.59      0.68      0.63     12839\n",
      "\n",
      "    accuracy                           0.68     32000\n",
      "   macro avg       0.67      0.68      0.67     32000\n",
      "weighted avg       0.69      0.68      0.68     32000\n",
      "\n"
     ]
    }
   ],
   "source": [
    "print(classification_report(y_test, preds, zero_division=0))"
   ]
  },
  {
   "cell_type": "markdown",
   "id": "7a7cfa25",
   "metadata": {},
   "source": [
    "## Neural Network Classifier"
   ]
  },
  {
   "cell_type": "markdown",
   "id": "a7e61e30",
   "metadata": {},
   "source": [
    "#### Balance Response Variable"
   ]
  },
  {
   "cell_type": "code",
   "execution_count": 54,
   "id": "06eb7ead",
   "metadata": {},
   "outputs": [],
   "source": [
    "# calculate class weights based on frequency of each class in training data\n",
    "class_weights = class_weight.compute_class_weight(class_weight='balanced', classes=np.unique(y_train), y=y_train)\n",
    "\n",
    "# convert class weights to dictionary\n",
    "class_weight_dict = dict(enumerate(class_weights))\n"
   ]
  },
  {
   "cell_type": "code",
   "execution_count": 55,
   "id": "fe476c5a",
   "metadata": {},
   "outputs": [],
   "source": [
    "# concatenate the x_train and x_test arrays along the first axis (rows)\n",
    "X = np.concatenate((X_train, X_test), axis=0)\n",
    "\n",
    "# concatenate the y_train and y_test arrays along the first axis (rows)\n",
    "y = np.concatenate((y_train, y_test), axis=0)"
   ]
  },
  {
   "cell_type": "code",
   "execution_count": 56,
   "id": "e7167008",
   "metadata": {},
   "outputs": [],
   "source": [
    "import tensorflow as tf\n",
    "from tensorflow import keras\n",
    "from tensorflow.keras import layers\n",
    "from tensorflow.keras.regularizers import l2\n",
    "from tensorflow.keras.callbacks import TensorBoard\n",
    "from time import time\n",
    "\n",
    "tb = TensorBoard(log_dir=f\"logs\\\\{time()}\")"
   ]
  },
  {
   "cell_type": "code",
   "execution_count": 57,
   "id": "24d00efd",
   "metadata": {},
   "outputs": [],
   "source": [
    "# Define Model Layers\n",
    "model= tf.keras.Sequential()\n",
    "model.add(tf.keras.Input(shape=(67,)))\n",
    "model.add(tf.keras.layers.Dense(50, activation='relu', kernel_regularizer=l2(0.001)))\n",
    "model.add(tf.keras.layers.Dense(80, activation='relu', kernel_regularizer=l2(0.001)))\n",
    "model.add(tf.keras.layers.Dense(100, activation='relu', kernel_regularizer=l2(0.001)))\n",
    "model.add(tf.keras.layers.Dense(100, activation='relu', kernel_regularizer=l2(0.001)))\n",
    "model.add(tf.keras.layers.Dense(100, activation='relu', kernel_regularizer=l2(0.001)))\n",
    "model.add(tf.keras.layers.Dense(100, activation='relu', kernel_regularizer=l2(0.001)))\n",
    "model.add(tf.keras.layers.Dense(100, activation='relu', kernel_regularizer=l2(0.001)))\n",
    "model.add(tf.keras.layers.Dense(100, activation='relu', kernel_regularizer=l2(0.001)))\n",
    "model.add(tf.keras.layers.Dense(1, activation='sigmoid'))\n",
    "model.compile(optimizer='SGD', loss='binary_crossentropy', metrics=['accuracy'])"
   ]
  },
  {
   "cell_type": "code",
   "execution_count": 58,
   "id": "4f0e5f44",
   "metadata": {},
   "outputs": [],
   "source": [
    "# Define Early Stopping Parameters\n",
    "\n",
    "from tensorflow.keras.callbacks import EarlyStopping\n",
    "safety = EarlyStopping(monitor='loss', patience=1)"
   ]
  },
  {
   "cell_type": "code",
   "execution_count": 59,
   "id": "5a5226be",
   "metadata": {},
   "outputs": [
    {
     "name": "stdout",
     "output_type": "stream",
     "text": [
      "Epoch 1/1000\n",
      "8534/8534 [==============================] - 21s 2ms/step - loss: 1.0295 - accuracy: 0.7989 - val_loss: 0.8224 - val_accuracy: 0.8726\n",
      "Epoch 2/1000\n",
      "8534/8534 [==============================] - 20s 2ms/step - loss: 0.6954 - accuracy: 0.8999 - val_loss: 0.5961 - val_accuracy: 0.9168\n",
      "Epoch 3/1000\n",
      "8534/8534 [==============================] - 20s 2ms/step - loss: 0.5223 - accuracy: 0.9277 - val_loss: 0.4797 - val_accuracy: 0.9272\n",
      "Epoch 4/1000\n",
      "8534/8534 [==============================] - 20s 2ms/step - loss: 0.4149 - accuracy: 0.9396 - val_loss: 0.3804 - val_accuracy: 0.9416\n",
      "Epoch 5/1000\n",
      "8534/8534 [==============================] - 20s 2ms/step - loss: 0.3444 - accuracy: 0.9451 - val_loss: 0.3283 - val_accuracy: 0.9429\n",
      "Epoch 6/1000\n",
      "8534/8534 [==============================] - 20s 2ms/step - loss: 0.2954 - accuracy: 0.9498 - val_loss: 0.3200 - val_accuracy: 0.9330\n",
      "Epoch 7/1000\n",
      "8534/8534 [==============================] - 21s 2ms/step - loss: 0.2594 - accuracy: 0.9532 - val_loss: 0.2434 - val_accuracy: 0.9561\n",
      "Epoch 8/1000\n",
      "8534/8534 [==============================] - 24s 3ms/step - loss: 0.2343 - accuracy: 0.9554 - val_loss: 0.2292 - val_accuracy: 0.9548\n",
      "Epoch 9/1000\n",
      "8534/8534 [==============================] - 21s 2ms/step - loss: 0.2166 - accuracy: 0.9570 - val_loss: 0.2153 - val_accuracy: 0.9561\n",
      "Epoch 10/1000\n",
      "8534/8534 [==============================] - 21s 2ms/step - loss: 0.2024 - accuracy: 0.9590 - val_loss: 0.2019 - val_accuracy: 0.9573\n",
      "Epoch 11/1000\n",
      "8534/8534 [==============================] - 22s 3ms/step - loss: 0.1925 - accuracy: 0.9603 - val_loss: 0.2138 - val_accuracy: 0.9505\n",
      "Epoch 12/1000\n",
      "8534/8534 [==============================] - 22s 3ms/step - loss: 0.1850 - accuracy: 0.9608 - val_loss: 0.1861 - val_accuracy: 0.9605\n",
      "Epoch 13/1000\n",
      "8534/8534 [==============================] - 22s 3ms/step - loss: 0.1795 - accuracy: 0.9622 - val_loss: 0.1856 - val_accuracy: 0.9585\n",
      "Epoch 14/1000\n",
      "8534/8534 [==============================] - 22s 3ms/step - loss: 0.1749 - accuracy: 0.9626 - val_loss: 0.2136 - val_accuracy: 0.9479\n",
      "Epoch 15/1000\n",
      "8534/8534 [==============================] - 21s 3ms/step - loss: 0.1712 - accuracy: 0.9631 - val_loss: 0.1812 - val_accuracy: 0.9592\n",
      "Epoch 16/1000\n",
      "8534/8534 [==============================] - 21s 2ms/step - loss: 0.1689 - accuracy: 0.9636 - val_loss: 0.1738 - val_accuracy: 0.9629\n",
      "Epoch 17/1000\n",
      "8534/8534 [==============================] - 21s 2ms/step - loss: 0.1662 - accuracy: 0.9642 - val_loss: 0.1747 - val_accuracy: 0.9611\n",
      "Epoch 18/1000\n",
      "8534/8534 [==============================] - 21s 2ms/step - loss: 0.1645 - accuracy: 0.9651 - val_loss: 0.1672 - val_accuracy: 0.9637\n",
      "Epoch 19/1000\n",
      "8534/8534 [==============================] - 21s 2ms/step - loss: 0.1626 - accuracy: 0.9652 - val_loss: 0.1777 - val_accuracy: 0.9592\n",
      "Epoch 20/1000\n",
      "8534/8534 [==============================] - 21s 2ms/step - loss: 0.1613 - accuracy: 0.9655 - val_loss: 0.1722 - val_accuracy: 0.9623\n",
      "Epoch 21/1000\n",
      "8534/8534 [==============================] - 21s 2ms/step - loss: 0.1614 - accuracy: 0.9655 - val_loss: 0.1642 - val_accuracy: 0.9649\n"
     ]
    },
    {
     "data": {
      "text/plain": [
       "<keras.callbacks.History at 0x7fc555fe3d30>"
      ]
     },
     "execution_count": 59,
     "metadata": {},
     "output_type": "execute_result"
    }
   ],
   "source": [
    "#Fit Model and Apply Early Stopping\n",
    "model.fit(X_train, y_train, epochs=1000, validation_data=(X_test, y_test), batch_size=15, callbacks=[tb, safety])"
   ]
  },
  {
   "cell_type": "code",
   "execution_count": 60,
   "id": "b7ac5a71",
   "metadata": {},
   "outputs": [
    {
     "name": "stdout",
     "output_type": "stream",
     "text": [
      "1000/1000 [==============================] - 1s 1ms/step\n"
     ]
    }
   ],
   "source": [
    "# make predictions on the test set\n",
    "y_pred = model.predict(X_test)\n",
    "# convert the predictions to binary (0 or 1)\n",
    "y_pred = np.round(y_pred).astype(int)"
   ]
  },
  {
   "cell_type": "code",
   "execution_count": 61,
   "id": "e7a81e1c",
   "metadata": {},
   "outputs": [
    {
     "name": "stdout",
     "output_type": "stream",
     "text": [
      "1000/1000 [==============================] - 1s 1ms/step\n"
     ]
    },
    {
     "data": {
      "text/plain": [
       "<sklearn.metrics._plot.confusion_matrix.ConfusionMatrixDisplay at 0x7fc557bdbbe0>"
      ]
     },
     "execution_count": 61,
     "metadata": {},
     "output_type": "execute_result"
    },
    {
     "data": {
      "image/png": "[encoded data removed]",
      "text/plain": [
       "<Figure size 432x288 with 2 Axes>"
      ]
     },
     "metadata": {
      "needs_background": "light"
     },
     "output_type": "display_data"
    }
   ],
   "source": [
    "# Define the class labels as a list\n",
    "class_labels = ['0', '1']\n",
    "\n",
    "# Predict the classes on test data\n",
    "preds = model.predict(X_test)\n",
    "preds = np.round(y_pred).astype(int)\n",
    "\n",
    "# Compute the confusion matrix\n",
    "cm = confusion_matrix(y_test, preds)\n",
    "\n",
    "# Display the confusion matrix\n",
    "disp = ConfusionMatrixDisplay(confusion_matrix=cm, display_labels=class_labels)\n",
    "disp.plot()"
   ]
  },
  {
   "cell_type": "code",
   "execution_count": 62,
   "id": "d746f20e",
   "metadata": {},
   "outputs": [
    {
     "name": "stdout",
     "output_type": "stream",
     "text": [
      "              precision    recall  f1-score   support\n",
      "\n",
      "           0       0.97      0.97      0.97     19161\n",
      "           1       0.95      0.96      0.96     12839\n",
      "\n",
      "    accuracy                           0.96     32000\n",
      "   macro avg       0.96      0.96      0.96     32000\n",
      "weighted avg       0.97      0.96      0.96     32000\n",
      "\n"
     ]
    }
   ],
   "source": [
    "print(classification_report(y_test, preds, zero_division=0))"
   ]
  },
  {
   "cell_type": "code",
   "execution_count": null,
   "id": "b563b859",
   "metadata": {},
   "outputs": [],
   "source": [
    "from keras.wrappers.scikit_learn import KerasClassifier\n",
    "from sklearn.model_selection import cross_val_predict, KFold\n",
    "\n",
    "# define your Keras model\n",
    "def create_model():\n",
    "    model = Sequential()\n",
    "    # add layers to the model\n",
    "    return model\n",
    "\n",
    "# create an instance of the KerasClassifier wrapper\n",
    "estimator = KerasClassifier(build_fn=create_model, epochs=10, batch_size=32, verbose=0)\n",
    "\n",
    "# define the number of folds\n",
    "num_folds = 5\n",
    "\n",
    "# define the cross-validation strategy\n",
    "kfold = KFold(n_splits=num_folds, shuffle=True, random_state=42)\n",
    "\n",
    "# get fold predictions\n",
    "fold_preds = cross_val_predict(estimator, X, y, cv=kfold)"
   ]
  },
  {
   "cell_type": "code",
   "execution_count": 200,
   "id": "18733b69",
   "metadata": {},
   "outputs": [
    {
     "name": "stdout",
     "output_type": "stream",
     "text": [
      "Fold 1\n",
      "Epoch 1/1000\n",
      "8534/8534 [==============================] - 26s 3ms/step - loss: 1.0580 - accuracy: 0.7727 - val_loss: 0.8017 - val_accuracy: 0.8807\n",
      "Epoch 2/1000\n",
      "8534/8534 [==============================] - 27s 3ms/step - loss: 0.6840 - accuracy: 0.9030 - val_loss: 0.5802 - val_accuracy: 0.9196\n",
      "Epoch 3/1000\n",
      "8534/8534 [==============================] - 22s 3ms/step - loss: 0.5147 - accuracy: 0.9288 - val_loss: 0.4596 - val_accuracy: 0.9330\n",
      "Epoch 4/1000\n",
      "8534/8534 [==============================] - 20s 2ms/step - loss: 0.4094 - accuracy: 0.9402 - val_loss: 0.3592 - val_accuracy: 0.9477\n",
      "Epoch 5/1000\n",
      "8534/8534 [==============================] - 20s 2ms/step - loss: 0.3390 - accuracy: 0.9470 - val_loss: 0.4119 - val_accuracy: 0.9067\n",
      "1000/1000 [==============================] - 1s 1ms/step - loss: 0.4119 - accuracy: 0.9067\n",
      "Fold 2\n",
      "Epoch 1/1000\n",
      "8534/8534 [==============================] - 22s 3ms/step - loss: 0.2908 - accuracy: 0.9502 - val_loss: 0.2760 - val_accuracy: 0.9517\n",
      "Epoch 2/1000\n",
      "8534/8534 [==============================] - 23s 3ms/step - loss: 0.2556 - accuracy: 0.9537 - val_loss: 0.2426 - val_accuracy: 0.9550\n",
      "Epoch 3/1000\n",
      "8534/8534 [==============================] - 25s 3ms/step - loss: 0.2320 - accuracy: 0.9556 - val_loss: 0.2492 - val_accuracy: 0.9449\n",
      "1000/1000 [==============================] - 2s 2ms/step - loss: 0.2492 - accuracy: 0.9449\n",
      "Fold 3\n",
      "Epoch 1/1000\n",
      "8534/8534 [==============================] - 23s 3ms/step - loss: 0.2150 - accuracy: 0.9574 - val_loss: 0.2501 - val_accuracy: 0.9401\n",
      "Epoch 2/1000\n",
      "8534/8534 [==============================] - 21s 2ms/step - loss: 0.2009 - accuracy: 0.9589 - val_loss: 0.2185 - val_accuracy: 0.9490\n",
      "Epoch 3/1000\n",
      "8534/8534 [==============================] - 20s 2ms/step - loss: 0.1905 - accuracy: 0.9606 - val_loss: 0.1876 - val_accuracy: 0.9602\n",
      "Epoch 4/1000\n",
      "8534/8534 [==============================] - 21s 2ms/step - loss: 0.1831 - accuracy: 0.9619 - val_loss: 0.1856 - val_accuracy: 0.9587\n",
      "Epoch 5/1000\n",
      "8534/8534 [==============================] - 21s 2ms/step - loss: 0.1779 - accuracy: 0.9626 - val_loss: 0.1755 - val_accuracy: 0.9612\n",
      "Epoch 6/1000\n",
      "8534/8534 [==============================] - 26s 3ms/step - loss: 0.1746 - accuracy: 0.9628 - val_loss: 0.1703 - val_accuracy: 0.9639\n",
      "Epoch 7/1000\n",
      "8534/8534 [==============================] - 25s 3ms/step - loss: 0.1709 - accuracy: 0.9636 - val_loss: 0.1702 - val_accuracy: 0.9630\n",
      "Epoch 8/1000\n",
      "8534/8534 [==============================] - 21s 2ms/step - loss: 0.1689 - accuracy: 0.9638 - val_loss: 0.2835 - val_accuracy: 0.9186\n",
      "1000/1000 [==============================] - 2s 2ms/step - loss: 0.2836 - accuracy: 0.9186\n",
      "Fold 4\n",
      "Epoch 1/1000\n",
      "8534/8534 [==============================] - 21s 2ms/step - loss: 0.1674 - accuracy: 0.9642 - val_loss: 0.1670 - val_accuracy: 0.9659\n",
      "Epoch 2/1000\n",
      "8534/8534 [==============================] - 28s 3ms/step - loss: 0.1646 - accuracy: 0.9653 - val_loss: 0.1715 - val_accuracy: 0.9613\n",
      "1000/1000 [==============================] - 2s 2ms/step - loss: 0.1715 - accuracy: 0.9613\n",
      "Fold 5\n",
      "Epoch 1/1000\n",
      "8534/8534 [==============================] - 22s 3ms/step - loss: 0.1652 - accuracy: 0.9644 - val_loss: 0.2083 - val_accuracy: 0.9485\n",
      "Epoch 2/1000\n",
      "8534/8534 [==============================] - 21s 2ms/step - loss: 0.1637 - accuracy: 0.9651 - val_loss: 0.1582 - val_accuracy: 0.9660\n",
      "Epoch 3/1000\n",
      "8534/8534 [==============================] - 21s 2ms/step - loss: 0.1628 - accuracy: 0.9653 - val_loss: 0.2787 - val_accuracy: 0.9174\n",
      "1000/1000 [==============================] - 2s 2ms/step - loss: 0.2787 - accuracy: 0.9174\n"
     ]
    }
   ],
   "source": [
    "# Loop over the folds\n",
    "fold_scores = []\n",
    "for fold, (train_idx, test_idx) in enumerate(kfold.split(X, y)):\n",
    "    print(f\"Fold {fold+1}\")\n",
    "    \n",
    "    # Split the data for this fold\n",
    "    X_train_fold, y_train_fold = X[train_idx], y[train_idx]\n",
    "    X_test_fold, y_test_fold = X[test_idx], y[test_idx]\n",
    "    \n",
    "    # Fit the model on the training data for this fold\n",
    "    model.fit(X_train_fold, y_train_fold, epochs=1000, validation_data=(X_test_fold, y_test_fold), batch_size=15, callbacks=[tb, safety])\n",
    "    \n",
    "    # Evaluate the model on the test data for this fold\n",
    "    scores = model.evaluate(X_test_fold, y_test_fold)\n",
    "    fold_scores.append(scores)\n",
    "    \n",
    "# Calculate the mean and standard deviation of the fold scores\n",
    "fold_scores = np.array(fold_scores)"
   ]
  },
  {
   "cell_type": "code",
   "execution_count": 227,
   "id": "0d38217f",
   "metadata": {},
   "outputs": [
    {
     "name": "stdout",
     "output_type": "stream",
     "text": [
      "Epoch 1/1000\n",
      "8534/8534 [==============================] - 19s 2ms/step - loss: 1.0265 - accuracy: 0.7916\n",
      "Epoch 2/1000\n",
      "8534/8534 [==============================] - 22s 3ms/step - loss: 0.6748 - accuracy: 0.9043\n",
      "Epoch 3/1000\n",
      "8534/8534 [==============================] - 19s 2ms/step - loss: 0.5101 - accuracy: 0.9312\n",
      "Epoch 4/1000\n",
      "8534/8534 [==============================] - 18s 2ms/step - loss: 0.4084 - accuracy: 0.9406\n",
      "Epoch 5/1000\n",
      "8534/8534 [==============================] - 18s 2ms/step - loss: 0.3404 - accuracy: 0.9465\n",
      "Epoch 6/1000\n",
      "8534/8534 [==============================] - 18s 2ms/step - loss: 0.2929 - accuracy: 0.9506\n",
      "Epoch 7/1000\n",
      "8534/8534 [==============================] - 19s 2ms/step - loss: 0.2583 - accuracy: 0.9536\n",
      "Epoch 8/1000\n",
      "8534/8534 [==============================] - 18s 2ms/step - loss: 0.2332 - accuracy: 0.9565\n",
      "Epoch 9/1000\n",
      "8534/8534 [==============================] - 18s 2ms/step - loss: 0.2157 - accuracy: 0.9583\n",
      "Epoch 10/1000\n",
      "8534/8534 [==============================] - 18s 2ms/step - loss: 0.2011 - accuracy: 0.9600\n",
      "Epoch 11/1000\n",
      "8534/8534 [==============================] - 18s 2ms/step - loss: 0.1922 - accuracy: 0.9610\n",
      "Epoch 12/1000\n",
      "8534/8534 [==============================] - 18s 2ms/step - loss: 0.1853 - accuracy: 0.9618\n",
      "Epoch 13/1000\n",
      "8534/8534 [==============================] - 19s 2ms/step - loss: 0.1798 - accuracy: 0.9629\n",
      "Epoch 14/1000\n",
      "8534/8534 [==============================] - 19s 2ms/step - loss: 0.1753 - accuracy: 0.9638\n",
      "Epoch 15/1000\n",
      "8534/8534 [==============================] - 19s 2ms/step - loss: 0.1726 - accuracy: 0.9643\n",
      "Epoch 16/1000\n",
      "8534/8534 [==============================] - 19s 2ms/step - loss: 0.1694 - accuracy: 0.9649\n",
      "Epoch 17/1000\n",
      "8534/8534 [==============================] - 19s 2ms/step - loss: 0.1679 - accuracy: 0.9651\n",
      "Epoch 18/1000\n",
      "8534/8534 [==============================] - 19s 2ms/step - loss: 0.1664 - accuracy: 0.9650\n",
      "Epoch 19/1000\n",
      "8534/8534 [==============================] - 19s 2ms/step - loss: 0.1644 - accuracy: 0.9660\n",
      "Epoch 20/1000\n",
      "8534/8534 [==============================] - 25s 3ms/step - loss: 0.1638 - accuracy: 0.9657\n",
      "Epoch 21/1000\n",
      "8534/8534 [==============================] - 25s 3ms/step - loss: 0.1632 - accuracy: 0.9665\n",
      "Epoch 22/1000\n",
      "8534/8534 [==============================] - 25s 3ms/step - loss: 0.1625 - accuracy: 0.9664\n",
      "Epoch 23/1000\n",
      "8534/8534 [==============================] - 25s 3ms/step - loss: 0.1619 - accuracy: 0.9665\n",
      "Epoch 24/1000\n",
      "8534/8534 [==============================] - 24s 3ms/step - loss: 0.1618 - accuracy: 0.9663\n",
      "Epoch 25/1000\n",
      "8534/8534 [==============================] - 24s 3ms/step - loss: 0.1619 - accuracy: 0.9663\n",
      "1000/1000 [==============================] - 2s 2ms/step\n",
      "Confusion matrix for fold 1:\n",
      "[[18690   440]\n",
      " [  627 12243]]\n",
      "Epoch 1/1000\n",
      "8534/8534 [==============================] - 24s 3ms/step - loss: 0.1623 - accuracy: 0.9663\n",
      "Epoch 2/1000\n",
      "8534/8534 [==============================] - 29s 3ms/step - loss: 0.1614 - accuracy: 0.9659\n",
      "Epoch 3/1000\n",
      "8534/8534 [==============================] - 24s 3ms/step - loss: 0.1604 - accuracy: 0.9667\n",
      "Epoch 4/1000\n",
      "8534/8534 [==============================] - 24s 3ms/step - loss: 0.1601 - accuracy: 0.9669\n",
      "Epoch 5/1000\n",
      "8534/8534 [==============================] - 23s 3ms/step - loss: 0.1592 - accuracy: 0.9673\n",
      "Epoch 6/1000\n",
      "8534/8534 [==============================] - 24s 3ms/step - loss: 0.1589 - accuracy: 0.9678\n",
      "Epoch 7/1000\n",
      "8534/8534 [==============================] - 22s 3ms/step - loss: 0.1594 - accuracy: 0.9671\n",
      "1000/1000 [==============================] - 1s 1ms/step\n",
      "Confusion matrix for fold 2:\n",
      "[[18634   371]\n",
      " [  884 12111]]\n",
      "Epoch 1/1000\n",
      "8534/8534 [==============================] - 21s 3ms/step - loss: 0.1598 - accuracy: 0.9667\n",
      "Epoch 2/1000\n",
      "8534/8534 [==============================] - 21s 2ms/step - loss: 0.1594 - accuracy: 0.9668\n",
      "Epoch 3/1000\n",
      "8534/8534 [==============================] - 19s 2ms/step - loss: 0.1573 - accuracy: 0.9680\n",
      "Epoch 4/1000\n",
      "8534/8534 [==============================] - 20s 2ms/step - loss: 0.1575 - accuracy: 0.9679\n",
      "1000/1000 [==============================] - 1s 1ms/step\n",
      "Confusion matrix for fold 3:\n",
      "[[18714   413]\n",
      " [  939 11934]]\n",
      "Epoch 1/1000\n",
      "8534/8534 [==============================] - 22s 3ms/step - loss: 0.1591 - accuracy: 0.9673\n",
      "Epoch 2/1000\n",
      "8534/8534 [==============================] - 23s 3ms/step - loss: 0.1583 - accuracy: 0.9672\n",
      "Epoch 3/1000\n",
      "8534/8534 [==============================] - 23s 3ms/step - loss: 0.1581 - accuracy: 0.9673\n",
      "Epoch 4/1000\n",
      "8534/8534 [==============================] - 32s 4ms/step - loss: 0.1572 - accuracy: 0.9679\n",
      "Epoch 5/1000\n",
      "8534/8534 [==============================] - 29s 3ms/step - loss: 0.1577 - accuracy: 0.9677\n",
      "1000/1000 [==============================] - 1s 1ms/step\n",
      "Confusion matrix for fold 4:\n",
      "[[18799   523]\n",
      " [  547 12131]]\n",
      "Epoch 1/1000\n",
      "8534/8534 [==============================] - 27s 3ms/step - loss: 0.1589 - accuracy: 0.9673\n",
      "Epoch 2/1000\n",
      "8534/8534 [==============================] - 21s 2ms/step - loss: 0.1587 - accuracy: 0.9669\n",
      "Epoch 3/1000\n",
      "8534/8534 [==============================] - 21s 2ms/step - loss: 0.1581 - accuracy: 0.9680\n",
      "Epoch 4/1000\n",
      "8534/8534 [==============================] - 22s 3ms/step - loss: 0.1573 - accuracy: 0.9676\n",
      "Epoch 5/1000\n",
      "8534/8534 [==============================] - 22s 3ms/step - loss: 0.1569 - accuracy: 0.9683\n",
      "Epoch 6/1000\n",
      "8534/8534 [==============================] - 23s 3ms/step - loss: 0.1575 - accuracy: 0.9675\n",
      "1000/1000 [==============================] - 2s 2ms/step\n",
      "Confusion matrix for fold 5:\n",
      "[[18864   445]\n",
      " [  612 12079]]\n"
     ]
    }
   ],
   "source": [
    "# define the number of folds\n",
    "num_folds = 5\n",
    "\n",
    "# define the cross-validation strategy\n",
    "kfold = KFold(n_splits=num_folds, shuffle=True, random_state=42)\n",
    "\n",
    "# create an empty list to store the confusion matrices\n",
    "conf_matrices = []\n",
    "\n",
    "# loop over the folds\n",
    "for fold, (train_indices, val_indices) in enumerate(kfold.split(X, y)):\n",
    "    # get the training and validation data for this fold\n",
    "    X_train, y_train = X[train_indices], y[train_indices]\n",
    "    X_val, y_val = X[val_indices], y[val_indices]\n",
    "    \n",
    "    # fit the model on the training data for this fold\n",
    "    model.fit(X_train, y_train, epochs=1000, batch_size=15, callbacks=[tb, safety], class_weight=class_weight_dict)\n",
    "    # make predictions on the validation data for this fold\n",
    "    y_pred = model.predict(X_val)\n",
    "    y_pred_classes = np.round(y_pred)\n",
    "    \n",
    "    # calculate and print the confusion matrix for this fold\n",
    "    conf_matrix = confusion_matrix(y_val, y_pred_classes)\n",
    "    print(f\"Confusion matrix for fold {fold+1}:\")\n",
    "    print(conf_matrix)\n",
    "    \n",
    "    # add the confusion matrix to the list\n",
    "    conf_matrices.append(conf_matrix)"
   ]
  },
  {
   "cell_type": "code",
   "execution_count": 239,
   "id": "e4359534",
   "metadata": {},
   "outputs": [
    {
     "data": {
      "text/plain": [
       "[array([[18690,   440],\n",
       "        [  627, 12243]]),\n",
       " array([[18634,   371],\n",
       "        [  884, 12111]]),\n",
       " array([[18714,   413],\n",
       "        [  939, 11934]]),\n",
       " array([[18799,   523],\n",
       "        [  547, 12131]]),\n",
       " array([[18864,   445],\n",
       "        [  612, 12079]])]"
      ]
     },
     "execution_count": 239,
     "metadata": {},
     "output_type": "execute_result"
    }
   ],
   "source": [
    "conf_matrices"
   ]
  },
  {
   "cell_type": "code",
   "execution_count": 257,
   "id": "0eb80d44",
   "metadata": {},
   "outputs": [
    {
     "name": "stdout",
     "output_type": "stream",
     "text": [
      "Sum of False Positives: 2192\n",
      "Dollar Value of False Positives: $76720\n"
     ]
    }
   ],
   "source": [
    "false_positives = [arr[0,1:] for arr in conf_matrices]\n",
    "sum_false_positives = sum(false_positives)\n",
    "dollar_value_false_positives = sum_false_positives * 35\n",
    "print(\"Sum of False Positives: \" + str(sum_false_positives[0]))\n",
    "print(\"Dollar Value of False Positives: $\" + str(dollar_value_false_positives[0]))"
   ]
  },
  {
   "cell_type": "code",
   "execution_count": 258,
   "id": "967d6fe6",
   "metadata": {},
   "outputs": [
    {
     "name": "stdout",
     "output_type": "stream",
     "text": [
      "Sum of False Negatives: 3609\n",
      "Dollar Value of False Positives: $54135\n"
     ]
    }
   ],
   "source": [
    "false_negatives = [arr[1,:1] for arr in conf_matrices]\n",
    "sum_false_negatives = sum(false_negatives)\n",
    "dollar_value_false_negatives = sum_false_negatives * 15\n",
    "print(\"Sum of False Negatives: \" + str(sum_false_negatives[0]))\n",
    "print(\"Dollar Value of False Positives: $\" + str(dollar_value_false_negatives[0]))"
   ]
  },
  {
   "cell_type": "code",
   "execution_count": 259,
   "id": "25f43234",
   "metadata": {},
   "outputs": [
    {
     "name": "stdout",
     "output_type": "stream",
     "text": [
      "Dollar Value of Incorrect Predictions: $130855\n"
     ]
    }
   ],
   "source": [
    "Total= dollar_value_false_positives + dollar_value_false_negatives\n",
    "print(\"Dollar Value of Incorrect Predictions: $\" + str(Total[0]))"
   ]
  },
  {
   "cell_type": "markdown",
   "id": "c074ed8a",
   "metadata": {},
   "source": [
    "### Reduce False Positives by Increasing Threshold to 0.6\n",
    "#### False Positives have a higher dollar value than False Negatives"
   ]
  },
  {
   "cell_type": "code",
   "execution_count": 260,
   "id": "913f9494",
   "metadata": {},
   "outputs": [
    {
     "name": "stdout",
     "output_type": "stream",
     "text": [
      "Epoch 1/1000\n",
      "8534/8534 [==============================] - 25s 3ms/step - loss: 0.1574 - accuracy: 0.9677\n",
      "Epoch 2/1000\n",
      "8534/8534 [==============================] - 22s 3ms/step - loss: 0.1567 - accuracy: 0.9680\n",
      "Epoch 3/1000\n",
      "8534/8534 [==============================] - 21s 2ms/step - loss: 0.1566 - accuracy: 0.9685\n",
      "Epoch 4/1000\n",
      "8534/8534 [==============================] - 22s 3ms/step - loss: 0.1567 - accuracy: 0.9679\n",
      "1000/1000 [==============================] - 1s 1ms/step\n",
      "Confusion matrix for fold 1:\n",
      "[[18839   291]\n",
      " [  885 11985]]\n",
      "Epoch 1/1000\n",
      "8534/8534 [==============================] - 26s 3ms/step - loss: 0.1579 - accuracy: 0.9676\n",
      "Epoch 2/1000\n",
      "8534/8534 [==============================] - 21s 2ms/step - loss: 0.1572 - accuracy: 0.9681\n",
      "Epoch 3/1000\n",
      "8534/8534 [==============================] - 21s 2ms/step - loss: 0.1562 - accuracy: 0.9678\n",
      "Epoch 4/1000\n",
      "8534/8534 [==============================] - 20s 2ms/step - loss: 0.1574 - accuracy: 0.9680\n",
      "1000/1000 [==============================] - 1s 1ms/step\n",
      "Confusion matrix for fold 2:\n",
      "[[18399   606]\n",
      " [  456 12539]]\n",
      "Epoch 1/1000\n",
      "8534/8534 [==============================] - 21s 3ms/step - loss: 0.1574 - accuracy: 0.9675\n",
      "Epoch 2/1000\n",
      "8534/8534 [==============================] - 24s 3ms/step - loss: 0.1565 - accuracy: 0.9679\n",
      "Epoch 3/1000\n",
      "8534/8534 [==============================] - 27s 3ms/step - loss: 0.1559 - accuracy: 0.9678\n",
      "Epoch 4/1000\n",
      "8534/8534 [==============================] - 28s 3ms/step - loss: 0.1562 - accuracy: 0.9680\n",
      "1000/1000 [==============================] - 2s 2ms/step\n",
      "Confusion matrix for fold 3:\n",
      "[[18449   678]\n",
      " [  387 12486]]\n",
      "Epoch 1/1000\n",
      "8534/8534 [==============================] - 23s 3ms/step - loss: 0.1575 - accuracy: 0.9672\n",
      "Epoch 2/1000\n",
      "8534/8534 [==============================] - 26s 3ms/step - loss: 0.1561 - accuracy: 0.9685\n",
      "Epoch 3/1000\n",
      "8534/8534 [==============================] - 21s 2ms/step - loss: 0.1563 - accuracy: 0.9685\n",
      "1000/1000 [==============================] - 1s 1ms/step\n",
      "Confusion matrix for fold 4:\n",
      "[[18919   403]\n",
      " [  473 12205]]\n",
      "Epoch 1/1000\n",
      "8534/8534 [==============================] - 25s 3ms/step - loss: 0.1571 - accuracy: 0.9676\n",
      "Epoch 2/1000\n",
      "8534/8534 [==============================] - 25s 3ms/step - loss: 0.1568 - accuracy: 0.9678\n",
      "Epoch 3/1000\n",
      "8534/8534 [==============================] - 22s 3ms/step - loss: 0.1568 - accuracy: 0.9681\n",
      "Epoch 4/1000\n",
      "8534/8534 [==============================] - 21s 2ms/step - loss: 0.1560 - accuracy: 0.9683\n",
      "Epoch 5/1000\n",
      "8534/8534 [==============================] - 21s 3ms/step - loss: 0.1568 - accuracy: 0.9682\n",
      "1000/1000 [==============================] - 1s 1ms/step\n",
      "Confusion matrix for fold 5:\n",
      "[[16928  2381]\n",
      " [  133 12558]]\n"
     ]
    }
   ],
   "source": [
    "# define the number of folds\n",
    "num_folds = 5\n",
    "\n",
    "# define the cross-validation strategy\n",
    "kfold = KFold(n_splits=num_folds, shuffle=True, random_state=42)\n",
    "\n",
    "# create an empty list to store the confusion matrices\n",
    "conf_matrices = []\n",
    "\n",
    "# loop over the folds\n",
    "for fold, (train_indices, val_indices) in enumerate(kfold.split(X, y)):\n",
    "    # get the training and validation data for this fold\n",
    "    X_train, y_train = X[train_indices], y[train_indices]\n",
    "    X_val, y_val = X[val_indices], y[val_indices]\n",
    "    \n",
    "    # fit the model on the training data for this fold\n",
    "    model.fit(X_train, y_train, epochs=1000, batch_size=15, callbacks=[tb, safety], class_weight=class_weight_dict)\n",
    "    # make predictions on the validation data for this fold\n",
    "    y_pred = model.predict(X_val)\n",
    "    y_pred_classes = (y_pred > 0.6).astype(int)\n",
    "    \n",
    "    # calculate and print the confusion matrix for this fold\n",
    "    conf_matrix = confusion_matrix(y_val, y_pred_classes)\n",
    "    print(f\"Confusion matrix for fold {fold+1}:\")\n",
    "    print(conf_matrix)\n",
    "    \n",
    "    # add the confusion matrix to the list\n",
    "    conf_matrices.append(conf_matrix)"
   ]
  },
  {
   "cell_type": "code",
   "execution_count": 261,
   "id": "7c35d2ca",
   "metadata": {},
   "outputs": [
    {
     "name": "stdout",
     "output_type": "stream",
     "text": [
      "Sum of False Positives: 4359\n",
      "Dollar Value of False Positives: $152565\n",
      "Sum of False Negatives: 2334\n",
      "Dollar Value of False Positives: $35010\n",
      "Dollar Value of Incorrect Predictions: $187575\n"
     ]
    }
   ],
   "source": [
    "false_positives = [arr[0,1:] for arr in conf_matrices]\n",
    "sum_false_positives = sum(false_positives)\n",
    "dollar_value_false_positives = sum_false_positives * 35\n",
    "print(\"Sum of False Positives: \" + str(sum_false_positives[0]))\n",
    "print(\"Dollar Value of False Positives: $\" + str(dollar_value_false_positives[0]))\n",
    "\n",
    "false_negatives = [arr[1,:1] for arr in conf_matrices]\n",
    "sum_false_negatives = sum(false_negatives)\n",
    "dollar_value_false_negatives = sum_false_negatives * 15\n",
    "print(\"Sum of False Negatives: \" + str(sum_false_negatives[0]))\n",
    "print(\"Dollar Value of False Positives: $\" + str(dollar_value_false_negatives[0]))\n",
    "\n",
    "Total= dollar_value_false_positives + dollar_value_false_negatives\n",
    "print(\"Dollar Value of Incorrect Predictions: $\" + str(Total[0]))"
   ]
  },
  {
   "cell_type": "code",
   "execution_count": 262,
   "id": "0d9f1676",
   "metadata": {},
   "outputs": [
    {
     "name": "stdout",
     "output_type": "stream",
     "text": [
      "Epoch 1/1000\n",
      "8534/8534 [==============================] - 24s 3ms/step - loss: 0.1568 - accuracy: 0.9679\n",
      "Epoch 2/1000\n",
      "8534/8534 [==============================] - 20s 2ms/step - loss: 0.1556 - accuracy: 0.9687\n",
      "Epoch 3/1000\n",
      "8534/8534 [==============================] - 22s 3ms/step - loss: 0.1559 - accuracy: 0.9682\n",
      "1000/1000 [==============================] - 1s 1ms/step\n",
      "Confusion matrix for fold 1:\n",
      "[[18807   323]\n",
      " [  908 11962]]\n",
      "Epoch 1/1000\n",
      "8534/8534 [==============================] - 21s 2ms/step - loss: 0.1571 - accuracy: 0.9678\n",
      "Epoch 2/1000\n",
      "8534/8534 [==============================] - 23s 3ms/step - loss: 0.1561 - accuracy: 0.9686\n",
      "Epoch 3/1000\n",
      "8534/8534 [==============================] - 20s 2ms/step - loss: 0.1556 - accuracy: 0.9688\n",
      "Epoch 4/1000\n",
      "8534/8534 [==============================] - 20s 2ms/step - loss: 0.1557 - accuracy: 0.9681\n",
      "1000/1000 [==============================] - 1s 1ms/step\n",
      "Confusion matrix for fold 2:\n",
      "[[18524   481]\n",
      " [  598 12397]]\n",
      "Epoch 1/1000\n",
      "8534/8534 [==============================] - 21s 2ms/step - loss: 0.1560 - accuracy: 0.9683\n",
      "Epoch 2/1000\n",
      "8534/8534 [==============================] - 21s 2ms/step - loss: 0.1563 - accuracy: 0.9676\n",
      "1000/1000 [==============================] - 1s 1ms/step\n",
      "Confusion matrix for fold 3:\n",
      "[[18409   718]\n",
      " [  288 12585]]\n",
      "Epoch 1/1000\n",
      "8534/8534 [==============================] - 23s 3ms/step - loss: 0.1562 - accuracy: 0.9683\n",
      "Epoch 2/1000\n",
      "8534/8534 [==============================] - 21s 2ms/step - loss: 0.1559 - accuracy: 0.9685\n",
      "Epoch 3/1000\n",
      "8534/8534 [==============================] - 28s 3ms/step - loss: 0.1556 - accuracy: 0.9682\n",
      "Epoch 4/1000\n",
      "8534/8534 [==============================] - 22s 3ms/step - loss: 0.1565 - accuracy: 0.9676\n",
      "1000/1000 [==============================] - 3s 3ms/step\n",
      "Confusion matrix for fold 4:\n",
      "[[18464   858]\n",
      " [  282 12396]]\n",
      "Epoch 1/1000\n",
      "8534/8534 [==============================] - 24s 3ms/step - loss: 0.1568 - accuracy: 0.9682\n",
      "Epoch 2/1000\n",
      "8534/8534 [==============================] - 20s 2ms/step - loss: 0.1557 - accuracy: 0.9685\n",
      "Epoch 3/1000\n",
      "8534/8534 [==============================] - 25s 3ms/step - loss: 0.1558 - accuracy: 0.9683\n",
      "1000/1000 [==============================] - 1s 1ms/step\n",
      "Confusion matrix for fold 5:\n",
      "[[18842   467]\n",
      " [  475 12216]]\n"
     ]
    }
   ],
   "source": [
    "# define the number of folds\n",
    "num_folds = 5\n",
    "\n",
    "# define the cross-validation strategy\n",
    "kfold = KFold(n_splits=num_folds, shuffle=True, random_state=42)\n",
    "\n",
    "# create an empty list to store the confusion matrices\n",
    "conf_matrices = []\n",
    "\n",
    "# loop over the folds\n",
    "for fold, (train_indices, val_indices) in enumerate(kfold.split(X, y)):\n",
    "    # get the training and validation data for this fold\n",
    "    X_train, y_train = X[train_indices], y[train_indices]\n",
    "    X_val, y_val = X[val_indices], y[val_indices]\n",
    "    \n",
    "    # fit the model on the training data for this fold\n",
    "    model.fit(X_train, y_train, epochs=1000, batch_size=15, callbacks=[tb, safety], class_weight=class_weight_dict)\n",
    "    # make predictions on the validation data for this fold\n",
    "    y_pred = model.predict(X_val)\n",
    "    y_pred_classes = (y_pred > 0.3).astype(int)\n",
    "    \n",
    "    # calculate and print the confusion matrix for this fold\n",
    "    conf_matrix = confusion_matrix(y_val, y_pred_classes)\n",
    "    print(f\"Confusion matrix for fold {fold+1}:\")\n",
    "    print(conf_matrix)\n",
    "    \n",
    "    # add the confusion matrix to the list\n",
    "    conf_matrices.append(conf_matrix)"
   ]
  },
  {
   "cell_type": "code",
   "execution_count": 263,
   "id": "aaca8b4e",
   "metadata": {},
   "outputs": [
    {
     "name": "stdout",
     "output_type": "stream",
     "text": [
      "Sum of False Positives: 2847\n",
      "Dollar Value of False Positives: $99645\n",
      "Sum of False Negatives: 2551\n",
      "Dollar Value of False Positives: $38265\n",
      "Dollar Value of Incorrect Predictions: $137910\n"
     ]
    }
   ],
   "source": [
    "false_positives = [arr[0,1:] for arr in conf_matrices]\n",
    "sum_false_positives = sum(false_positives)\n",
    "dollar_value_false_positives = sum_false_positives * 35\n",
    "print(\"Sum of False Positives: \" + str(sum_false_positives[0]))\n",
    "print(\"Dollar Value of False Positives: $\" + str(dollar_value_false_positives[0]))\n",
    "\n",
    "false_negatives = [arr[1,:1] for arr in conf_matrices]\n",
    "sum_false_negatives = sum(false_negatives)\n",
    "dollar_value_false_negatives = sum_false_negatives * 15\n",
    "print(\"Sum of False Negatives: \" + str(sum_false_negatives[0]))\n",
    "print(\"Dollar Value of False Positives: $\" + str(dollar_value_false_negatives[0]))\n",
    "\n",
    "Total= dollar_value_false_positives + dollar_value_false_negatives\n",
    "print(\"Dollar Value of Incorrect Predictions: $\" + str(Total[0]))"
   ]
  },
  {
   "cell_type": "code",
   "execution_count": 264,
   "id": "705c51be",
   "metadata": {},
   "outputs": [
    {
     "name": "stdout",
     "output_type": "stream",
     "text": [
      "Epoch 1/1000\n",
      "8534/8534 [==============================] - 25s 3ms/step - loss: 0.1560 - accuracy: 0.9681\n",
      "Epoch 2/1000\n",
      "8534/8534 [==============================] - 20s 2ms/step - loss: 0.1559 - accuracy: 0.9682\n",
      "Epoch 3/1000\n",
      "8534/8534 [==============================] - 19s 2ms/step - loss: 0.1560 - accuracy: 0.9685\n",
      "1000/1000 [==============================] - 1s 1ms/step\n",
      "Confusion matrix for fold 1:\n",
      "[[18197   933]\n",
      " [  286 12584]]\n",
      "Epoch 1/1000\n",
      "8534/8534 [==============================] - 26s 3ms/step - loss: 0.1565 - accuracy: 0.9683\n",
      "Epoch 2/1000\n",
      "8534/8534 [==============================] - 27s 3ms/step - loss: 0.1556 - accuracy: 0.9681\n",
      "Epoch 3/1000\n",
      "8534/8534 [==============================] - 26s 3ms/step - loss: 0.1555 - accuracy: 0.9684\n",
      "Epoch 4/1000\n",
      "8534/8534 [==============================] - 29s 3ms/step - loss: 0.1556 - accuracy: 0.9684\n",
      "1000/1000 [==============================] - 2s 2ms/step\n",
      "Confusion matrix for fold 2:\n",
      "[[18280   725]\n",
      " [  313 12682]]\n",
      "Epoch 1/1000\n",
      "8534/8534 [==============================] - 25s 3ms/step - loss: 0.1560 - accuracy: 0.9678\n",
      "Epoch 2/1000\n",
      "8534/8534 [==============================] - 22s 3ms/step - loss: 0.1555 - accuracy: 0.9685\n",
      "Epoch 3/1000\n",
      "8534/8534 [==============================] - 22s 3ms/step - loss: 0.1555 - accuracy: 0.9680\n",
      "Epoch 4/1000\n",
      "8534/8534 [==============================] - 22s 3ms/step - loss: 0.1554 - accuracy: 0.9687\n",
      "Epoch 5/1000\n",
      "8534/8534 [==============================] - 24s 3ms/step - loss: 0.1547 - accuracy: 0.9693\n",
      "Epoch 6/1000\n",
      "8534/8534 [==============================] - 22s 3ms/step - loss: 0.1550 - accuracy: 0.9682\n",
      "1000/1000 [==============================] - 1s 1ms/step\n",
      "Confusion matrix for fold 3:\n",
      "[[18794   333]\n",
      " [  687 12186]]\n",
      "Epoch 1/1000\n",
      "8534/8534 [==============================] - 25s 3ms/step - loss: 0.1560 - accuracy: 0.9684\n",
      "Epoch 2/1000\n",
      "8534/8534 [==============================] - 24s 3ms/step - loss: 0.1551 - accuracy: 0.9687\n",
      "Epoch 3/1000\n",
      "8534/8534 [==============================] - 29s 3ms/step - loss: 0.1559 - accuracy: 0.9682\n",
      "1000/1000 [==============================] - 1s 1ms/step\n",
      "Confusion matrix for fold 4:\n",
      "[[18452   870]\n",
      " [  237 12441]]\n",
      "Epoch 1/1000\n",
      "8534/8534 [==============================] - 21s 3ms/step - loss: 0.1570 - accuracy: 0.9678\n",
      "Epoch 2/1000\n",
      "8534/8534 [==============================] - 21s 3ms/step - loss: 0.1555 - accuracy: 0.9683\n",
      "Epoch 3/1000\n",
      "8534/8534 [==============================] - 21s 3ms/step - loss: 0.1557 - accuracy: 0.9683\n",
      "1000/1000 [==============================] - 1s 1ms/step\n",
      "Confusion matrix for fold 5:\n",
      "[[18504   805]\n",
      " [  358 12333]]\n"
     ]
    }
   ],
   "source": [
    "# define the number of folds\n",
    "num_folds = 5\n",
    "\n",
    "# define the cross-validation strategy\n",
    "kfold = KFold(n_splits=num_folds, shuffle=True, random_state=42)\n",
    "\n",
    "# create an empty list to store the confusion matrices\n",
    "conf_matrices = []\n",
    "\n",
    "# loop over the folds\n",
    "for fold, (train_indices, val_indices) in enumerate(kfold.split(X, y)):\n",
    "    # get the training and validation data for this fold\n",
    "    X_train, y_train = X[train_indices], y[train_indices]\n",
    "    X_val, y_val = X[val_indices], y[val_indices]\n",
    "    \n",
    "    # fit the model on the training data for this fold\n",
    "    model.fit(X_train, y_train, epochs=1000, batch_size=15, callbacks=[tb, safety], class_weight=class_weight_dict)\n",
    "    # make predictions on the validation data for this fold\n",
    "    y_pred = model.predict(X_val)\n",
    "    y_pred_classes = (y_pred > 0.4).astype(int)\n",
    "    \n",
    "    # calculate and print the confusion matrix for this fold\n",
    "    conf_matrix = confusion_matrix(y_val, y_pred_classes)\n",
    "    print(f\"Confusion matrix for fold {fold+1}:\")\n",
    "    print(conf_matrix)\n",
    "    \n",
    "    # add the confusion matrix to the list\n",
    "    conf_matrices.append(conf_matrix)"
   ]
  },
  {
   "cell_type": "code",
   "execution_count": 265,
   "id": "25822841",
   "metadata": {},
   "outputs": [
    {
     "data": {
      "text/plain": [
       "[array([[18197,   933],\n",
       "        [  286, 12584]]),\n",
       " array([[18280,   725],\n",
       "        [  313, 12682]]),\n",
       " array([[18794,   333],\n",
       "        [  687, 12186]]),\n",
       " array([[18452,   870],\n",
       "        [  237, 12441]]),\n",
       " array([[18504,   805],\n",
       "        [  358, 12333]])]"
      ]
     },
     "execution_count": 265,
     "metadata": {},
     "output_type": "execute_result"
    }
   ],
   "source": [
    "conf_matrices"
   ]
  },
  {
   "cell_type": "code",
   "execution_count": 266,
   "id": "adf1d3a9",
   "metadata": {},
   "outputs": [
    {
     "name": "stdout",
     "output_type": "stream",
     "text": [
      "Sum of False Positives: 3666\n",
      "Dollar Value of False Positives: $128310\n",
      "Sum of False Negatives: 1881\n",
      "Dollar Value of False Positives: $28215\n",
      "Dollar Value of Incorrect Predictions: $156525\n"
     ]
    }
   ],
   "source": [
    "false_positives = [arr[0,1:] for arr in conf_matrices]\n",
    "sum_false_positives = sum(false_positives)\n",
    "dollar_value_false_positives = sum_false_positives * 35\n",
    "print(\"Sum of False Positives: \" + str(sum_false_positives[0]))\n",
    "print(\"Dollar Value of False Positives: $\" + str(dollar_value_false_positives[0]))\n",
    "\n",
    "false_negatives = [arr[1,:1] for arr in conf_matrices]\n",
    "sum_false_negatives = sum(false_negatives)\n",
    "dollar_value_false_negatives = sum_false_negatives * 15\n",
    "print(\"Sum of False Negatives: \" + str(sum_false_negatives[0]))\n",
    "print(\"Dollar Value of False Positives: $\" + str(dollar_value_false_negatives[0]))\n",
    "\n",
    "Total= dollar_value_false_positives + dollar_value_false_negatives\n",
    "print(\"Dollar Value of Incorrect Predictions: $\" + str(Total[0]))"
   ]
  },
  {
   "cell_type": "code",
   "execution_count": 267,
   "id": "cc401b34",
   "metadata": {},
   "outputs": [],
   "source": [
    "# Define Early Stopping Parameters\n",
    "\n",
    "from tensorflow.keras.callbacks import EarlyStopping\n",
    "safety = EarlyStopping(monitor='accuracy', patience=1)"
   ]
  },
  {
   "cell_type": "code",
   "execution_count": 268,
   "id": "0d14c14c",
   "metadata": {},
   "outputs": [
    {
     "name": "stdout",
     "output_type": "stream",
     "text": [
      "Epoch 1/1000\n",
      "8534/8534 [==============================] - 20s 2ms/step - loss: 0.1555 - accuracy: 0.9681\n",
      "Epoch 2/1000\n",
      "8534/8534 [==============================] - 19s 2ms/step - loss: 0.1548 - accuracy: 0.9688\n",
      "Epoch 3/1000\n",
      "8534/8534 [==============================] - 20s 2ms/step - loss: 0.1549 - accuracy: 0.9689\n",
      "Epoch 4/1000\n",
      "8534/8534 [==============================] - 21s 2ms/step - loss: 0.1548 - accuracy: 0.9688\n",
      "1000/1000 [==============================] - 1s 1ms/step\n",
      "Confusion matrix for fold 1:\n",
      "[[18646   484]\n",
      " [  561 12309]]\n",
      "Epoch 1/1000\n",
      "8534/8534 [==============================] - 30s 4ms/step - loss: 0.1563 - accuracy: 0.9683\n",
      "Epoch 2/1000\n",
      "8534/8534 [==============================] - 20s 2ms/step - loss: 0.1552 - accuracy: 0.9686\n",
      "Epoch 3/1000\n",
      "8534/8534 [==============================] - 25s 3ms/step - loss: 0.1556 - accuracy: 0.9682\n",
      "1000/1000 [==============================] - 1s 1ms/step\n",
      "Confusion matrix for fold 2:\n",
      "[[18269   736]\n",
      " [  276 12719]]\n",
      "Epoch 1/1000\n",
      "8534/8534 [==============================] - 25s 3ms/step - loss: 0.1557 - accuracy: 0.9686\n",
      "Epoch 2/1000\n",
      "8534/8534 [==============================] - 22s 3ms/step - loss: 0.1555 - accuracy: 0.9681\n",
      "1000/1000 [==============================] - 1s 1ms/step\n",
      "Confusion matrix for fold 3:\n",
      "[[18656   471]\n",
      " [  478 12395]]\n",
      "Epoch 1/1000\n",
      "8534/8534 [==============================] - 21s 2ms/step - loss: 0.1550 - accuracy: 0.9684\n",
      "Epoch 2/1000\n",
      "8534/8534 [==============================] - 20s 2ms/step - loss: 0.1552 - accuracy: 0.9681\n",
      "1000/1000 [==============================] - 1s 1ms/step\n",
      "Confusion matrix for fold 4:\n",
      "[[18845   477]\n",
      " [  486 12192]]\n",
      "Epoch 1/1000\n",
      "8534/8534 [==============================] - 20s 2ms/step - loss: 0.1567 - accuracy: 0.9680\n",
      "Epoch 2/1000\n",
      "8534/8534 [==============================] - 20s 2ms/step - loss: 0.1561 - accuracy: 0.9685\n",
      "Epoch 3/1000\n",
      "8534/8534 [==============================] - 21s 2ms/step - loss: 0.1555 - accuracy: 0.9687\n",
      "Epoch 4/1000\n",
      "8534/8534 [==============================] - 21s 2ms/step - loss: 0.1558 - accuracy: 0.9684\n",
      "1000/1000 [==============================] - 1s 1ms/step\n",
      "Confusion matrix for fold 5:\n",
      "[[18662   647]\n",
      " [  352 12339]]\n"
     ]
    }
   ],
   "source": [
    "# define the number of folds\n",
    "num_folds = 5\n",
    "\n",
    "# define the cross-validation strategy\n",
    "kfold = KFold(n_splits=num_folds, shuffle=True, random_state=42)\n",
    "\n",
    "# create an empty list to store the confusion matrices\n",
    "conf_matrices = []\n",
    "\n",
    "# loop over the folds\n",
    "for fold, (train_indices, val_indices) in enumerate(kfold.split(X, y)):\n",
    "    # get the training and validation data for this fold\n",
    "    X_train, y_train = X[train_indices], y[train_indices]\n",
    "    X_val, y_val = X[val_indices], y[val_indices]\n",
    "    \n",
    "    # fit the model on the training data for this fold\n",
    "    model.fit(X_train, y_train, epochs=1000, batch_size=15, callbacks=[tb, safety], class_weight=class_weight_dict)\n",
    "    # make predictions on the validation data for this fold\n",
    "    y_pred = model.predict(X_val)\n",
    "    y_pred_classes = np.round(y_pred)\n",
    "    \n",
    "    # calculate and print the confusion matrix for this fold\n",
    "    conf_matrix = confusion_matrix(y_val, y_pred_classes)\n",
    "    print(f\"Confusion matrix for fold {fold+1}:\")\n",
    "    print(conf_matrix)\n",
    "    \n",
    "    # add the confusion matrix to the list\n",
    "    conf_matrices.append(conf_matrix)"
   ]
  },
  {
   "cell_type": "code",
   "execution_count": 269,
   "id": "ab690fff",
   "metadata": {},
   "outputs": [
    {
     "data": {
      "text/plain": [
       "[array([[18646,   484],\n",
       "        [  561, 12309]]),\n",
       " array([[18269,   736],\n",
       "        [  276, 12719]]),\n",
       " array([[18656,   471],\n",
       "        [  478, 12395]]),\n",
       " array([[18845,   477],\n",
       "        [  486, 12192]]),\n",
       " array([[18662,   647],\n",
       "        [  352, 12339]])]"
      ]
     },
     "execution_count": 269,
     "metadata": {},
     "output_type": "execute_result"
    }
   ],
   "source": [
    "conf_matrices"
   ]
  },
  {
   "cell_type": "code",
   "execution_count": 270,
   "id": "f45ee13d",
   "metadata": {},
   "outputs": [
    {
     "name": "stdout",
     "output_type": "stream",
     "text": [
      "Sum of False Positives: 2815\n",
      "Dollar Value of False Positives: $98525\n",
      "Sum of False Negatives: 2153\n",
      "Dollar Value of False Positives: $32295\n",
      "Dollar Value of Incorrect Predictions: $130820\n"
     ]
    }
   ],
   "source": [
    "false_positives = [arr[0,1:] for arr in conf_matrices]\n",
    "sum_false_positives = sum(false_positives)\n",
    "dollar_value_false_positives = sum_false_positives * 35\n",
    "print(\"Sum of False Positives: \" + str(sum_false_positives[0]))\n",
    "print(\"Dollar Value of False Positives: $\" + str(dollar_value_false_positives[0]))\n",
    "\n",
    "false_negatives = [arr[1,:1] for arr in conf_matrices]\n",
    "sum_false_negatives = sum(false_negatives)\n",
    "dollar_value_false_negatives = sum_false_negatives * 15\n",
    "print(\"Sum of False Negatives: \" + str(sum_false_negatives[0]))\n",
    "print(\"Dollar Value of False Positives: $\" + str(dollar_value_false_negatives[0]))\n",
    "\n",
    "Total= dollar_value_false_positives + dollar_value_false_negatives\n",
    "print(\"Dollar Value of Incorrect Predictions: $\" + str(Total[0]))"
   ]
  },
  {
   "cell_type": "code",
   "execution_count": 271,
   "id": "c9a19d71",
   "metadata": {},
   "outputs": [
    {
     "name": "stdout",
     "output_type": "stream",
     "text": [
      "Epoch 1/1000\n",
      "8534/8534 [==============================] - 26s 3ms/step - loss: 0.1559 - accuracy: 0.9681\n",
      "Epoch 2/1000\n",
      "8534/8534 [==============================] - 19s 2ms/step - loss: 0.1554 - accuracy: 0.9680\n",
      "1000/1000 [==============================] - 1s 1ms/step\n",
      "Confusion matrix for fold 1:\n",
      "[[19042    88]\n",
      " [ 1849 11021]]\n",
      "Epoch 1/1000\n",
      "8534/8534 [==============================] - 20s 2ms/step - loss: 0.1553 - accuracy: 0.9684\n",
      "Epoch 2/1000\n",
      "8534/8534 [==============================] - 20s 2ms/step - loss: 0.1557 - accuracy: 0.9680\n",
      "1000/1000 [==============================] - 1s 1ms/step\n",
      "Confusion matrix for fold 2:\n",
      "[[18865   140]\n",
      " [ 1397 11598]]\n",
      "Epoch 1/1000\n",
      "8534/8534 [==============================] - 21s 2ms/step - loss: 0.1556 - accuracy: 0.9678\n",
      "Epoch 2/1000\n",
      "8534/8534 [==============================] - 21s 2ms/step - loss: 0.1546 - accuracy: 0.9686\n",
      "Epoch 3/1000\n",
      "8534/8534 [==============================] - 20s 2ms/step - loss: 0.1542 - accuracy: 0.9690\n",
      "Epoch 4/1000\n",
      "8534/8534 [==============================] - 20s 2ms/step - loss: 0.1550 - accuracy: 0.9679\n",
      "1000/1000 [==============================] - 1s 1ms/step\n",
      "Confusion matrix for fold 3:\n",
      "[[18865   262]\n",
      " [  853 12020]]\n",
      "Epoch 1/1000\n",
      "8534/8534 [==============================] - 20s 2ms/step - loss: 0.1558 - accuracy: 0.9684\n",
      "Epoch 2/1000\n",
      "8534/8534 [==============================] - 21s 2ms/step - loss: 0.1559 - accuracy: 0.9681\n",
      "1000/1000 [==============================] - 1s 1ms/step\n",
      "Confusion matrix for fold 4:\n",
      "[[18990   332]\n",
      " [  629 12049]]\n",
      "Epoch 1/1000\n",
      "8534/8534 [==============================] - 21s 2ms/step - loss: 0.1559 - accuracy: 0.9683\n",
      "Epoch 2/1000\n",
      "8534/8534 [==============================] - 21s 2ms/step - loss: 0.1556 - accuracy: 0.9684\n",
      "Epoch 3/1000\n",
      "8534/8534 [==============================] - 21s 2ms/step - loss: 0.1557 - accuracy: 0.9682\n",
      "1000/1000 [==============================] - 1s 1ms/step\n",
      "Confusion matrix for fold 5:\n",
      "[[18879   430]\n",
      " [  491 12200]]\n"
     ]
    }
   ],
   "source": [
    "# define the number of folds\n",
    "num_folds = 5\n",
    "\n",
    "# define the cross-validation strategy\n",
    "kfold = KFold(n_splits=num_folds, shuffle=True, random_state=42)\n",
    "\n",
    "# create an empty list to store the confusion matrices\n",
    "conf_matrices = []\n",
    "\n",
    "# loop over the folds\n",
    "for fold, (train_indices, val_indices) in enumerate(kfold.split(X, y)):\n",
    "    # get the training and validation data for this fold\n",
    "    X_train, y_train = X[train_indices], y[train_indices]\n",
    "    X_val, y_val = X[val_indices], y[val_indices]\n",
    "    \n",
    "    # fit the model on the training data for this fold\n",
    "    model.fit(X_train, y_train, epochs=1000, batch_size=15, callbacks=[tb, safety], class_weight=class_weight_dict)\n",
    "    # make predictions on the validation data for this fold\n",
    "    y_pred = model.predict(X_val)\n",
    "    y_pred_classes = (y_pred > 0.7).astype(int)\n",
    "    \n",
    "    # calculate and print the confusion matrix for this fold\n",
    "    conf_matrix = confusion_matrix(y_val, y_pred_classes)\n",
    "    print(f\"Confusion matrix for fold {fold+1}:\")\n",
    "    print(conf_matrix)\n",
    "    \n",
    "    # add the confusion matrix to the list\n",
    "    conf_matrices.append(conf_matrix)"
   ]
  },
  {
   "cell_type": "code",
   "execution_count": 272,
   "id": "d5e3dbc6",
   "metadata": {},
   "outputs": [
    {
     "data": {
      "text/plain": [
       "[array([[19042,    88],\n",
       "        [ 1849, 11021]]),\n",
       " array([[18865,   140],\n",
       "        [ 1397, 11598]]),\n",
       " array([[18865,   262],\n",
       "        [  853, 12020]]),\n",
       " array([[18990,   332],\n",
       "        [  629, 12049]]),\n",
       " array([[18879,   430],\n",
       "        [  491, 12200]])]"
      ]
     },
     "execution_count": 272,
     "metadata": {},
     "output_type": "execute_result"
    }
   ],
   "source": [
    "conf_matrices"
   ]
  },
  {
   "cell_type": "code",
   "execution_count": 25,
   "id": "0468d82e",
   "metadata": {},
   "outputs": [
    {
     "data": {
      "text/plain": [
       "<sklearn.metrics._plot.confusion_matrix.ConfusionMatrixDisplay at 0x7fc58091b250>"
      ]
     },
     "execution_count": 25,
     "metadata": {},
     "output_type": "execute_result"
    },
    {
     "data": {
      "image/png": "[encoded data removed]",
      "text/plain": [
       "<Figure size 432x288 with 2 Axes>"
      ]
     },
     "metadata": {
      "needs_background": "light"
     },
     "output_type": "display_data"
    }
   ],
   "source": [
    "# Sum the arrays element-wise to get a single 2 by 2 array\n",
    "cm = np.sum(conf_matrices, axis=0)\n",
    "\n",
    "# Define the class labels as a list\n",
    "class_labels = ['0', '1']\n",
    "\n",
    "# Display the confusion matrix\n",
    "disp = ConfusionMatrixDisplay(confusion_matrix=cm, display_labels=class_labels)\n",
    "disp.plot(cmap=plt.cm.Blues)"
   ]
  },
  {
   "cell_type": "code",
   "execution_count": 273,
   "id": "f60ebd15",
   "metadata": {},
   "outputs": [
    {
     "name": "stdout",
     "output_type": "stream",
     "text": [
      "Sum of False Positives: 1252\n",
      "Dollar Value of False Positives: $43820\n",
      "Sum of False Negatives: 5219\n",
      "Dollar Value of False Positives: $78285\n",
      "Dollar Value of Incorrect Predictions: $122105\n"
     ]
    }
   ],
   "source": [
    "false_positives = [arr[0,1:] for arr in conf_matrices]\n",
    "sum_false_positives = sum(false_positives)\n",
    "dollar_value_false_positives = sum_false_positives * 35\n",
    "print(\"Sum of False Positives: \" + str(sum_false_positives[0]))\n",
    "print(\"Dollar Value of False Positives: $\" + str(dollar_value_false_positives[0]))\n",
    "\n",
    "false_negatives = [arr[1,:1] for arr in conf_matrices]\n",
    "sum_false_negatives = sum(false_negatives)\n",
    "dollar_value_false_negatives = sum_false_negatives * 15\n",
    "print(\"Sum of False Negatives: \" + str(sum_false_negatives[0]))\n",
    "print(\"Dollar Value of False Positives: $\" + str(dollar_value_false_negatives[0]))\n",
    "\n",
    "Total= dollar_value_false_positives + dollar_value_false_negatives\n",
    "print(\"Dollar Value of Incorrect Predictions: $\" + str(Total[0]))"
   ]
  }
 ],
 "metadata": {
  "kernelspec": {
   "display_name": "Python 3 (ipykernel)",
   "language": "python",
   "name": "python3"
  },
  "language_info": {
   "codemirror_mode": {
    "name": "ipython",
    "version": 3
   },
   "file_extension": ".py",
   "mimetype": "text/x-python",
   "name": "python",
   "nbconvert_exporter": "python",
   "pygments_lexer": "ipython3",
   "version": "3.11.3"
  }
 },
 "nbformat": 4,
 "nbformat_minor": 5
}
