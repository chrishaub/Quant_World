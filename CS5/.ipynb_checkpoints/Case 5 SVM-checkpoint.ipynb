{
 "cells": [
  {
   "cell_type": "code",
   "execution_count": 1,
   "id": "22edd960",
   "metadata": {},
   "outputs": [],
   "source": [
    "import pandas as pd\n",
    "import matplotlib.pyplot as plt\n",
    "from sklearn.model_selection import train_test_split\n",
    "from sklearn.linear_model import LogisticRegression\n",
    "from sklearn.metrics import ConfusionMatrixDisplay\n",
    "from sklearn.metrics import confusion_matrix\n",
    "from sklearn.metrics import classification_report\n",
    "from sklearn.svm import LinearSVC, SVC"
   ]
  },
  {
   "cell_type": "code",
   "execution_count": 2,
   "id": "6cb85fcd",
   "metadata": {},
   "outputs": [
    {
     "data": {
      "text/html": [
       "<div>\n",
       "<style scoped>\n",
       "    .dataframe tbody tr th:only-of-type {\n",
       "        vertical-align: middle;\n",
       "    }\n",
       "\n",
       "    .dataframe tbody tr th {\n",
       "        vertical-align: top;\n",
       "    }\n",
       "\n",
       "    .dataframe thead th {\n",
       "        text-align: right;\n",
       "    }\n",
       "</style>\n",
       "<table border=\"1\" class=\"dataframe\">\n",
       "  <thead>\n",
       "    <tr style=\"text-align: right;\">\n",
       "      <th></th>\n",
       "      <th>Source Port</th>\n",
       "      <th>Destination Port</th>\n",
       "      <th>NAT Source Port</th>\n",
       "      <th>NAT Destination Port</th>\n",
       "      <th>Action</th>\n",
       "      <th>Bytes</th>\n",
       "      <th>Bytes Sent</th>\n",
       "      <th>Bytes Received</th>\n",
       "      <th>Packets</th>\n",
       "      <th>Elapsed Time (sec)</th>\n",
       "      <th>pkts_sent</th>\n",
       "      <th>pkts_received</th>\n",
       "    </tr>\n",
       "  </thead>\n",
       "  <tbody>\n",
       "    <tr>\n",
       "      <th>0</th>\n",
       "      <td>57222</td>\n",
       "      <td>53</td>\n",
       "      <td>54587</td>\n",
       "      <td>53</td>\n",
       "      <td>allow</td>\n",
       "      <td>177</td>\n",
       "      <td>94</td>\n",
       "      <td>83</td>\n",
       "      <td>2</td>\n",
       "      <td>30</td>\n",
       "      <td>1</td>\n",
       "      <td>1</td>\n",
       "    </tr>\n",
       "    <tr>\n",
       "      <th>1</th>\n",
       "      <td>56258</td>\n",
       "      <td>3389</td>\n",
       "      <td>56258</td>\n",
       "      <td>3389</td>\n",
       "      <td>allow</td>\n",
       "      <td>4768</td>\n",
       "      <td>1600</td>\n",
       "      <td>3168</td>\n",
       "      <td>19</td>\n",
       "      <td>17</td>\n",
       "      <td>10</td>\n",
       "      <td>9</td>\n",
       "    </tr>\n",
       "    <tr>\n",
       "      <th>2</th>\n",
       "      <td>6881</td>\n",
       "      <td>50321</td>\n",
       "      <td>43265</td>\n",
       "      <td>50321</td>\n",
       "      <td>allow</td>\n",
       "      <td>238</td>\n",
       "      <td>118</td>\n",
       "      <td>120</td>\n",
       "      <td>2</td>\n",
       "      <td>1199</td>\n",
       "      <td>1</td>\n",
       "      <td>1</td>\n",
       "    </tr>\n",
       "    <tr>\n",
       "      <th>3</th>\n",
       "      <td>50553</td>\n",
       "      <td>3389</td>\n",
       "      <td>50553</td>\n",
       "      <td>3389</td>\n",
       "      <td>allow</td>\n",
       "      <td>3327</td>\n",
       "      <td>1438</td>\n",
       "      <td>1889</td>\n",
       "      <td>15</td>\n",
       "      <td>17</td>\n",
       "      <td>8</td>\n",
       "      <td>7</td>\n",
       "    </tr>\n",
       "    <tr>\n",
       "      <th>4</th>\n",
       "      <td>50002</td>\n",
       "      <td>443</td>\n",
       "      <td>45848</td>\n",
       "      <td>443</td>\n",
       "      <td>allow</td>\n",
       "      <td>25358</td>\n",
       "      <td>6778</td>\n",
       "      <td>18580</td>\n",
       "      <td>31</td>\n",
       "      <td>16</td>\n",
       "      <td>13</td>\n",
       "      <td>18</td>\n",
       "    </tr>\n",
       "    <tr>\n",
       "      <th>...</th>\n",
       "      <td>...</td>\n",
       "      <td>...</td>\n",
       "      <td>...</td>\n",
       "      <td>...</td>\n",
       "      <td>...</td>\n",
       "      <td>...</td>\n",
       "      <td>...</td>\n",
       "      <td>...</td>\n",
       "      <td>...</td>\n",
       "      <td>...</td>\n",
       "      <td>...</td>\n",
       "      <td>...</td>\n",
       "    </tr>\n",
       "    <tr>\n",
       "      <th>65527</th>\n",
       "      <td>63691</td>\n",
       "      <td>80</td>\n",
       "      <td>13237</td>\n",
       "      <td>80</td>\n",
       "      <td>allow</td>\n",
       "      <td>314</td>\n",
       "      <td>192</td>\n",
       "      <td>122</td>\n",
       "      <td>6</td>\n",
       "      <td>15</td>\n",
       "      <td>4</td>\n",
       "      <td>2</td>\n",
       "    </tr>\n",
       "    <tr>\n",
       "      <th>65528</th>\n",
       "      <td>50964</td>\n",
       "      <td>80</td>\n",
       "      <td>13485</td>\n",
       "      <td>80</td>\n",
       "      <td>allow</td>\n",
       "      <td>4680740</td>\n",
       "      <td>67312</td>\n",
       "      <td>4613428</td>\n",
       "      <td>4675</td>\n",
       "      <td>77</td>\n",
       "      <td>985</td>\n",
       "      <td>3690</td>\n",
       "    </tr>\n",
       "    <tr>\n",
       "      <th>65529</th>\n",
       "      <td>54871</td>\n",
       "      <td>445</td>\n",
       "      <td>0</td>\n",
       "      <td>0</td>\n",
       "      <td>drop</td>\n",
       "      <td>70</td>\n",
       "      <td>70</td>\n",
       "      <td>0</td>\n",
       "      <td>1</td>\n",
       "      <td>0</td>\n",
       "      <td>1</td>\n",
       "      <td>0</td>\n",
       "    </tr>\n",
       "    <tr>\n",
       "      <th>65530</th>\n",
       "      <td>54870</td>\n",
       "      <td>445</td>\n",
       "      <td>0</td>\n",
       "      <td>0</td>\n",
       "      <td>drop</td>\n",
       "      <td>70</td>\n",
       "      <td>70</td>\n",
       "      <td>0</td>\n",
       "      <td>1</td>\n",
       "      <td>0</td>\n",
       "      <td>1</td>\n",
       "      <td>0</td>\n",
       "    </tr>\n",
       "    <tr>\n",
       "      <th>65531</th>\n",
       "      <td>54867</td>\n",
       "      <td>445</td>\n",
       "      <td>0</td>\n",
       "      <td>0</td>\n",
       "      <td>drop</td>\n",
       "      <td>70</td>\n",
       "      <td>70</td>\n",
       "      <td>0</td>\n",
       "      <td>1</td>\n",
       "      <td>0</td>\n",
       "      <td>1</td>\n",
       "      <td>0</td>\n",
       "    </tr>\n",
       "  </tbody>\n",
       "</table>\n",
       "<p>65532 rows × 12 columns</p>\n",
       "</div>"
      ],
      "text/plain": [
       "       Source Port  Destination Port  NAT Source Port  NAT Destination Port  \\\n",
       "0            57222                53            54587                    53   \n",
       "1            56258              3389            56258                  3389   \n",
       "2             6881             50321            43265                 50321   \n",
       "3            50553              3389            50553                  3389   \n",
       "4            50002               443            45848                   443   \n",
       "...            ...               ...              ...                   ...   \n",
       "65527        63691                80            13237                    80   \n",
       "65528        50964                80            13485                    80   \n",
       "65529        54871               445                0                     0   \n",
       "65530        54870               445                0                     0   \n",
       "65531        54867               445                0                     0   \n",
       "\n",
       "      Action    Bytes  Bytes Sent  Bytes Received  Packets  \\\n",
       "0      allow      177          94              83        2   \n",
       "1      allow     4768        1600            3168       19   \n",
       "2      allow      238         118             120        2   \n",
       "3      allow     3327        1438            1889       15   \n",
       "4      allow    25358        6778           18580       31   \n",
       "...      ...      ...         ...             ...      ...   \n",
       "65527  allow      314         192             122        6   \n",
       "65528  allow  4680740       67312         4613428     4675   \n",
       "65529   drop       70          70               0        1   \n",
       "65530   drop       70          70               0        1   \n",
       "65531   drop       70          70               0        1   \n",
       "\n",
       "       Elapsed Time (sec)  pkts_sent  pkts_received  \n",
       "0                      30          1              1  \n",
       "1                      17         10              9  \n",
       "2                    1199          1              1  \n",
       "3                      17          8              7  \n",
       "4                      16         13             18  \n",
       "...                   ...        ...            ...  \n",
       "65527                  15          4              2  \n",
       "65528                  77        985           3690  \n",
       "65529                   0          1              0  \n",
       "65530                   0          1              0  \n",
       "65531                   0          1              0  \n",
       "\n",
       "[65532 rows x 12 columns]"
      ]
     },
     "execution_count": 2,
     "metadata": {},
     "output_type": "execute_result"
    }
   ],
   "source": [
    "data= pd.read_csv('D:\\\\SMUMSDS\\\\QuantWorld\\\\CS5\\\\log2.csv')\n",
    "data"
   ]
  },
  {
   "cell_type": "code",
   "execution_count": 3,
   "id": "556d99d3",
   "metadata": {},
   "outputs": [
    {
     "data": {
      "text/plain": [
       "allow         37640\n",
       "deny          14987\n",
       "drop          12851\n",
       "reset-both       54\n",
       "Name: Action, dtype: int64"
      ]
     },
     "execution_count": 3,
     "metadata": {},
     "output_type": "execute_result"
    }
   ],
   "source": [
    "data['Action'].value_counts()"
   ]
  },
  {
   "cell_type": "code",
   "execution_count": 4,
   "id": "78c6ab62",
   "metadata": {},
   "outputs": [
    {
     "data": {
      "image/png": "[encoded data removed]",
      "text/plain": [
       "<Figure size 700x800 with 1 Axes>"
      ]
     },
     "metadata": {},
     "output_type": "display_data"
    },
    {
     "name": "stdout",
     "output_type": "stream",
     "text": [
      "allow         57.437588\n",
      "deny          22.869743\n",
      "drop          19.610267\n",
      "reset-both     0.082402\n",
      "Name: Action, dtype: float64\n"
     ]
    }
   ],
   "source": [
    "# Compute the frequency of each color value and divide by the total count to get percentages\n",
    "counts = data['Action'].value_counts(normalize=True) * 100\n",
    "\n",
    "# Set Fig Size\n",
    "fig, ax = plt.subplots(figsize=(7, 8))\n",
    "\n",
    "# Create a bar plot of the result\n",
    "ax = counts.plot(kind='bar', rot=0)\n",
    "\n",
    "# Add labels and a title to the plot\n",
    "ax.set_xlabel('Action')\n",
    "ax.set_ylabel('Percentage')\n",
    "ax.set_title('Percentage of Actions')\n",
    "\n",
    "\n",
    "# Display the plot\n",
    "plt.show()\n",
    "print(counts)"
   ]
  },
  {
   "cell_type": "code",
   "execution_count": 5,
   "id": "25d934b4",
   "metadata": {},
   "outputs": [
    {
     "data": {
      "text/plain": [
       "6291200"
      ]
     },
     "execution_count": 5,
     "metadata": {},
     "output_type": "execute_result"
    }
   ],
   "source": [
    "data.memory_usage().sum()"
   ]
  },
  {
   "cell_type": "markdown",
   "id": "b67ee682",
   "metadata": {},
   "source": [
    "### Convert Columns to uint32"
   ]
  },
  {
   "cell_type": "code",
   "execution_count": 6,
   "id": "0872741c",
   "metadata": {},
   "outputs": [
    {
     "name": "stdout",
     "output_type": "stream",
     "text": [
      "Wall time: 15.7 ms\n"
     ]
    }
   ],
   "source": [
    "%%time\n",
    "for i in data.columns:\n",
    "    if i in ['Bytes', 'Bytes Sent', 'Bytes Received', 'Packets', \n",
    "             'Elapsed Time (sec)', 'pkts_sent', 'pkts_received']:\n",
    "        data[i]=data[i].astype('uint32')"
   ]
  },
  {
   "cell_type": "code",
   "execution_count": 7,
   "id": "c74013c7",
   "metadata": {},
   "outputs": [
    {
     "data": {
      "text/plain": [
       "4456304"
      ]
     },
     "execution_count": 7,
     "metadata": {},
     "output_type": "execute_result"
    }
   ],
   "source": [
    "data.memory_usage().sum()"
   ]
  },
  {
   "cell_type": "code",
   "execution_count": 8,
   "id": "6c59a28f",
   "metadata": {},
   "outputs": [
    {
     "name": "stdout",
     "output_type": "stream",
     "text": [
      "Wall time: 19.6 s\n"
     ]
    }
   ],
   "source": [
    "%%time\n",
    "for i in ['Source Port', 'Destination Port', 'NAT Source Port', 'NAT Destination Port']:\n",
    "    data= data.join(pd.get_dummies(data[i],prefix=i, dtype=bool))"
   ]
  },
  {
   "cell_type": "code",
   "execution_count": null,
   "id": "3858aaec",
   "metadata": {},
   "outputs": [
    {
     "name": "stdout",
     "output_type": "stream",
     "text": [
      "No duplicate columns for Source Port.\n",
      "No duplicate columns for Destination Port.\n"
     ]
    }
   ],
   "source": [
    "%%time\n",
    "# create dummies and check for duplicates\n",
    "for i in ['Source Port', 'Destination Port', 'NAT Source Port', 'NAT Destination Port']:\n",
    "    dummies = pd.get_dummies(data[i], prefix=i)\n",
    "    duplicates = dummies.columns[dummies.columns.duplicated()]\n",
    "\n",
    "    if duplicates.empty:\n",
    "        print(f'No duplicate columns for {i}.')\n",
    "    else:\n",
    "        print(f'Duplicate columns for {i}: {duplicates.to_list()}')"
   ]
  },
  {
   "cell_type": "code",
   "execution_count": null,
   "id": "c194f8f8",
   "metadata": {},
   "outputs": [],
   "source": [
    "data"
   ]
  },
  {
   "cell_type": "code",
   "execution_count": null,
   "id": "0de5491a",
   "metadata": {},
   "outputs": [],
   "source": [
    "data.shape"
   ]
  },
  {
   "cell_type": "code",
   "execution_count": null,
   "id": "c3c6bf63",
   "metadata": {},
   "outputs": [],
   "source": [
    "y=pd.factorize(data['Action'])\n",
    "y"
   ]
  },
  {
   "cell_type": "code",
   "execution_count": null,
   "id": "0f1568eb",
   "metadata": {},
   "outputs": [],
   "source": [
    "data = data.drop(['Source Port', 'Destination Port', 'NAT Source Port', 'NAT Destination Port', 'Action'], axis=1)"
   ]
  },
  {
   "cell_type": "code",
   "execution_count": null,
   "id": "dc4fa9aa",
   "metadata": {},
   "outputs": [],
   "source": [
    "data.memory_usage()"
   ]
  },
  {
   "cell_type": "code",
   "execution_count": null,
   "id": "77f322c4",
   "metadata": {},
   "outputs": [],
   "source": [
    "data.memory_usage().sum()"
   ]
  },
  {
   "cell_type": "code",
   "execution_count": null,
   "id": "80d7c68d",
   "metadata": {},
   "outputs": [],
   "source": [
    "print(data.dtypes)"
   ]
  },
  {
   "cell_type": "markdown",
   "id": "49120b0c",
   "metadata": {},
   "source": [
    "### Remove Duplicate Columns After Dummy Creation\n",
    "#### 2,731 Columns Removed"
   ]
  },
  {
   "cell_type": "code",
   "execution_count": null,
   "id": "ae849432",
   "metadata": {},
   "outputs": [],
   "source": [
    "%%time  \n",
    "# Destination Port== Nat Destination Port\n",
    "# filter columns that have 'Destination Port' in their name\n",
    "dest_port_cols = data.filter(regex='Destination Port')\n",
    "\n",
    "# Identify duplicate columns\n",
    "dup_cols = dest_port_cols.columns[dest_port_cols.T.duplicated()].tolist()\n",
    "# Combine the duplicates\n",
    "dest_port_cols = dest_port_cols.T.drop_duplicates().T\n",
    "\n",
    "# Print the list of dropped columns\n",
    "dropped_cols = list(set(dup_cols) - set(dest_port_cols.columns))\n",
    "# drop columns from the DataFrame\n",
    "data = data.drop(columns=dropped_cols)\n",
    "data.shape"
   ]
  },
  {
   "cell_type": "code",
   "execution_count": null,
   "id": "9818ac3b",
   "metadata": {},
   "outputs": [],
   "source": [
    "%%time  \n",
    "# Source Port== Destination Port\n",
    "# filter columns that start with 'Source Port' or 'Destination Port'\n",
    "filtered_cols = data.filter(regex='^(Source Port|Destination Port)')\n",
    "# Identify duplicate columns\n",
    "dup_cols = filtered_cols.columns[filtered_cols.T.duplicated()].tolist()\n",
    "# Combine the duplicates\n",
    "filtered_cols = filtered_cols.T.drop_duplicates().T\n",
    "# Print the list of dropped columns\n",
    "dropped_cols = list(set(dup_cols) - set(filtered_cols.columns))\n",
    "# drop columns from the DataFrame\n",
    "data = data.drop(columns=dropped_cols)\n",
    "data.shape"
   ]
  },
  {
   "cell_type": "code",
   "execution_count": null,
   "id": "b25bdfdd",
   "metadata": {},
   "outputs": [],
   "source": [
    "%%time  \n",
    "# NAT Source== NAT Destination\n",
    "# filter columns that start with 'NAT Destination' or 'NAT Source'\n",
    "filtered_cols = data.filter(regex='^(NAT Destination|NAT Source)')\n",
    "# Identify duplicate columns\n",
    "dup_cols = filtered_cols.columns[filtered_cols.T.duplicated()].tolist()\n",
    "# Combine the duplicates\n",
    "filtered_cols = filtered_cols.T.drop_duplicates().T\n",
    "# Print the list of dropped columns\n",
    "dropped_cols = list(set(dup_cols) - set(filtered_cols.columns))\n",
    "# drop columns from the DataFrame\n",
    "data = data.drop(columns=dropped_cols)\n",
    "data.shape"
   ]
  },
  {
   "cell_type": "code",
   "execution_count": null,
   "id": "91490058",
   "metadata": {},
   "outputs": [],
   "source": [
    "data.memory_usage().sum()"
   ]
  },
  {
   "cell_type": "markdown",
   "id": "f1385d12",
   "metadata": {},
   "source": [
    "### Save Transform Data"
   ]
  },
  {
   "cell_type": "code",
   "execution_count": null,
   "id": "c6ae41ac",
   "metadata": {},
   "outputs": [],
   "source": [
    "import pickle\n",
    "\n",
    "# Save the DataFrame to a file\n",
    "with open('data.pickle', 'wb') as f:\n",
    "    pickle.dump(data, f)"
   ]
  },
  {
   "cell_type": "code",
   "execution_count": null,
   "id": "45fb08f6",
   "metadata": {},
   "outputs": [],
   "source": [
    "# Save the Y to a file\n",
    "with open('y.pickle', 'wb') as f:\n",
    "    pickle.dump(y, f)"
   ]
  },
  {
   "cell_type": "markdown",
   "id": "391ce3cd",
   "metadata": {},
   "source": [
    "## Logistic Regression"
   ]
  },
  {
   "cell_type": "markdown",
   "id": "92f258af",
   "metadata": {},
   "source": [
    "### Create Sparse Data Frame "
   ]
  },
  {
   "cell_type": "code",
   "execution_count": null,
   "id": "6746850b",
   "metadata": {},
   "outputs": [],
   "source": [
    "%%time\n",
    "sparse_float_dtype = pd.SparseDtype(\"float\", fill_value=0)\n",
    "sparse_df = data.astype(sparse_float_dtype)\n",
    "sparse_df.shape"
   ]
  },
  {
   "cell_type": "code",
   "execution_count": null,
   "id": "a212c902",
   "metadata": {},
   "outputs": [],
   "source": [
    "# Save the sparse_df to a file\n",
    "with open('sparse_df.pickle', 'wb') as f:\n",
    "    pickle.dump(sparse_df, f)"
   ]
  },
  {
   "cell_type": "code",
   "execution_count": null,
   "id": "3811c745",
   "metadata": {},
   "outputs": [],
   "source": [
    "sparse_df.memory_usage().sum()"
   ]
  },
  {
   "cell_type": "markdown",
   "id": "3a6e1ec3",
   "metadata": {},
   "source": [
    "### Train/Test Split Sparse DF 80/20"
   ]
  },
  {
   "cell_type": "code",
   "execution_count": null,
   "id": "ac829cc9",
   "metadata": {},
   "outputs": [],
   "source": [
    "%%time\n",
    "\n",
    "#Make sure that the same proportion of labels are present in each of the train and test sets as the full df (Stratify)\n",
    "x_train, x_test, y_train, y_test = train_test_split(sparse_df,y[0], stratify=y[0], test_size=0.2)"
   ]
  },
  {
   "cell_type": "code",
   "execution_count": null,
   "id": "a9523fcc",
   "metadata": {},
   "outputs": [],
   "source": [
    "%%time\n",
    "\n",
    "lr=LogisticRegression(n_jobs=4)\n",
    "lr.fit(x_train, y_train)"
   ]
  },
  {
   "cell_type": "code",
   "execution_count": null,
   "id": "097ed911",
   "metadata": {},
   "outputs": [],
   "source": [
    "%%time\n",
    "preds = lr.predict(x_test)"
   ]
  },
  {
   "cell_type": "code",
   "execution_count": null,
   "id": "b6938243",
   "metadata": {},
   "outputs": [],
   "source": [
    "# get the confusion matrix\n",
    "cm = confusion_matrix(y_test, preds)\n",
    "\n",
    "# display the confusion matrix\n",
    "disp = ConfusionMatrixDisplay(confusion_matrix=cm, display_labels=y[1])\n",
    "disp.plot()"
   ]
  },
  {
   "cell_type": "code",
   "execution_count": null,
   "id": "591f3ff0",
   "metadata": {},
   "outputs": [],
   "source": [
    "print(classification_report(y_test, preds, target_names=y[1], zero_division=0))"
   ]
  },
  {
   "cell_type": "markdown",
   "id": "08a9415a",
   "metadata": {},
   "source": [
    "### Linear SVC"
   ]
  },
  {
   "cell_type": "markdown",
   "id": "ceaf00b1",
   "metadata": {},
   "source": [
    "#### Train/Test Split Original Data 80/20"
   ]
  },
  {
   "cell_type": "code",
   "execution_count": null,
   "id": "c2831141",
   "metadata": {},
   "outputs": [],
   "source": [
    "%%time\n",
    "\n",
    "#Make sure that the same proportion of labels are present in each of the train and test sets as the full df (Stratify)\n",
    "x_train, x_test, y_train, y_test = train_test_split(data,y[0], stratify=y[0], test_size=0.3)"
   ]
  },
  {
   "cell_type": "code",
   "execution_count": null,
   "id": "3d70fccb",
   "metadata": {},
   "outputs": [],
   "source": [
    "%%time\n",
    "\n",
    "linear = LinearSVC(dual=False, class_weight='balanced')\n",
    "linear.fit(x_train,y_train)"
   ]
  },
  {
   "cell_type": "code",
   "execution_count": null,
   "id": "0402006c",
   "metadata": {},
   "outputs": [],
   "source": [
    "%%time\n",
    "preds = linear.predict(x_test)"
   ]
  },
  {
   "cell_type": "code",
   "execution_count": null,
   "id": "3b685470",
   "metadata": {},
   "outputs": [],
   "source": [
    "# get the confusion matrix\n",
    "cm = confusion_matrix(y_test, preds)\n",
    "\n",
    "# display the confusion matrix\n",
    "disp = ConfusionMatrixDisplay(confusion_matrix=cm, display_labels=y[1])\n",
    "disp.plot()"
   ]
  },
  {
   "cell_type": "code",
   "execution_count": null,
   "id": "e19b9205",
   "metadata": {},
   "outputs": [],
   "source": [
    "print(classification_report(y_test, preds, target_names=y[1], zero_division=0))"
   ]
  },
  {
   "cell_type": "code",
   "execution_count": null,
   "id": "e5269da6",
   "metadata": {},
   "outputs": [],
   "source": [
    "# Load the saved DataFrame from the file\n",
    "with open('data.pickle', 'rb') as f:\n",
    "    data = pickle.load(f)\n",
    "# Load the saved DataFrame from the file\n",
    "with open('y.pickle', 'rb') as f:\n",
    "    y = pickle.load(f)\n",
    "# Load the saved DataFrame from the file\n",
    "with open('sparse_df.pickle', 'rb') as f:\n",
    "    sparse_df = pickle.load(f)"
   ]
  },
  {
   "cell_type": "code",
   "execution_count": null,
   "id": "db9b8d10",
   "metadata": {},
   "outputs": [],
   "source": [
    "data"
   ]
  },
  {
   "cell_type": "code",
   "execution_count": null,
   "id": "01ebb372",
   "metadata": {},
   "outputs": [],
   "source": [
    "y"
   ]
  },
  {
   "cell_type": "code",
   "execution_count": null,
   "id": "310291c3",
   "metadata": {},
   "outputs": [],
   "source": [
    "print(data.dtypes)"
   ]
  },
  {
   "cell_type": "code",
   "execution_count": null,
   "id": "b138781d",
   "metadata": {},
   "outputs": [],
   "source": [
    "sparse_df"
   ]
  },
  {
   "cell_type": "markdown",
   "id": "f6d6de27",
   "metadata": {},
   "source": [
    "### SVC"
   ]
  },
  {
   "cell_type": "code",
   "execution_count": null,
   "id": "ad48987a",
   "metadata": {},
   "outputs": [],
   "source": [
    "# select the boolean columns for training\n",
    "bool_cols = sparse_df.iloc[:, 7:].astype(int)\n",
    "# select the non-boolean columns for training\n",
    "non_bool_cols = sparse_df.iloc[:, :7].astype(float)"
   ]
  },
  {
   "cell_type": "code",
   "execution_count": null,
   "id": "97b4f39b",
   "metadata": {},
   "outputs": [],
   "source": [
    "%%time\n",
    "\n",
    "# split data into training and testing sets 60/40\n",
    "X_train_bool, X_test_bool, y_train, y_test = train_test_split(bool_cols, y[0], test_size=0.4, stratify=y[0], random_state=42)\n",
    "X_train_non_bool, X_test_non_bool, _, _ = train_test_split(non_bool_cols, y[0], test_size=0.4, stratify=y[0], random_state=42)"
   ]
  },
  {
   "cell_type": "code",
   "execution_count": null,
   "id": "e193942b",
   "metadata": {},
   "outputs": [],
   "source": [
    "%%time\n",
    "from sklearn.preprocessing import StandardScaler\n",
    "\n",
    "# create a StandardScaler object and fit on the non-boolean training set only\n",
    "scaler = StandardScaler(with_mean=False)\n",
    "scaler.fit(X_train_non_bool)"
   ]
  },
  {
   "cell_type": "code",
   "execution_count": null,
   "id": "4f5f3e1f",
   "metadata": {},
   "outputs": [],
   "source": [
    "%%time\n",
    "# transform the non-boolean training and testing sets using the scaler\n",
    "X_train_non_bool_scaled = scaler.transform(X_train_non_bool)\n",
    "X_test_non_bool_scaled = scaler.transform(X_test_non_bool)"
   ]
  },
  {
   "cell_type": "code",
   "execution_count": null,
   "id": "60e36e4e",
   "metadata": {},
   "outputs": [],
   "source": [
    "%%time\n",
    "from scipy.sparse import hstack\n",
    "\n",
    "X_train = hstack([X_train_non_bool_scaled, X_train_bool])"
   ]
  },
  {
   "cell_type": "code",
   "execution_count": null,
   "id": "22341578",
   "metadata": {},
   "outputs": [],
   "source": [
    "%%time\n",
    "X_test = hstack([X_test_non_bool_scaled, X_test_bool])"
   ]
  },
  {
   "cell_type": "code",
   "execution_count": null,
   "id": "9246adc8",
   "metadata": {},
   "outputs": [],
   "source": [
    "X_test"
   ]
  },
  {
   "cell_type": "code",
   "execution_count": null,
   "id": "8e1a1cf0",
   "metadata": {},
   "outputs": [],
   "source": [
    "%%time\n",
    "from sklearn.svm import LinearSVC, SVC\n",
    "from tqdm import tqdm\n",
    "\n",
    "svm = SVC(C=1.0, kernel='rbf', degree=2, gamma='scale', cache_size=500)\n",
    "\n",
    "# train the classifier using the sample data and show a progress bar\n",
    "for i in tqdm(range(100)):\n",
    "    svm.fit(X_train, y_train)"
   ]
  },
  {
   "cell_type": "code",
   "execution_count": null,
   "id": "dc56ad49",
   "metadata": {},
   "outputs": [],
   "source": [
    "%%time\n",
    "preds = svm.predict(X_test)"
   ]
  },
  {
   "cell_type": "code",
   "execution_count": null,
   "id": "7084c94f",
   "metadata": {},
   "outputs": [],
   "source": [
    "# get the confusion matrix\n",
    "cm = confusion_matrix(y_test, preds)\n",
    "\n",
    "# display the confusion matrix\n",
    "disp = ConfusionMatrixDisplay(confusion_matrix=cm, display_labels=y[1])\n",
    "disp.plot()"
   ]
  },
  {
   "cell_type": "code",
   "execution_count": null,
   "id": "0748bdb0",
   "metadata": {},
   "outputs": [],
   "source": [
    "print(classification_report(y_test, preds, target_names=y[1], zero_division=0))"
   ]
  },
  {
   "cell_type": "code",
   "execution_count": null,
   "id": "58b65c0c",
   "metadata": {},
   "outputs": [],
   "source": [
    "%%time\n",
    "from sklearn.svm import LinearSVC, SVC\n",
    "from tqdm import tqdm\n",
    "\n",
    "svm = SVC(C=1., kernel='rbf', degree=2, gamma='scale', class_weight= 'balanced', cache_size=500)\n",
    "\n",
    "# train the classifier using the sample data and show a progress bar\n",
    "for i in tqdm(range(100)):\n",
    "    svm.fit(X_train, y_train)"
   ]
  },
  {
   "cell_type": "code",
   "execution_count": null,
   "id": "adbb9a39",
   "metadata": {},
   "outputs": [],
   "source": [
    "%%time\n",
    "preds = svm.predict(X_test)"
   ]
  },
  {
   "cell_type": "code",
   "execution_count": null,
   "id": "3b425e5f",
   "metadata": {},
   "outputs": [],
   "source": [
    "# get the confusion matrix\n",
    "cm = confusion_matrix(y_test, preds)\n",
    "\n",
    "# display the confusion matrix\n",
    "disp = ConfusionMatrixDisplay(confusion_matrix=cm, display_labels=y[1])\n",
    "disp.plot()"
   ]
  },
  {
   "cell_type": "code",
   "execution_count": null,
   "id": "f3cb5c6a",
   "metadata": {},
   "outputs": [],
   "source": [
    "print(classification_report(y_test, preds, target_names=y[1], zero_division=0))"
   ]
  },
  {
   "cell_type": "code",
   "execution_count": null,
   "id": "5a23674d",
   "metadata": {},
   "outputs": [],
   "source": [
    "%%time\n",
    "from sklearn.svm import LinearSVC, SVC\n",
    "from tqdm import tqdm\n",
    "\n",
    "svm = SVC(C=.5, kernel='rbf', degree=2, gamma='scale', class_weight= 'balanced', cache_size=500)\n",
    "\n",
    "# train the classifier using the sample data and show a progress bar\n",
    "for i in tqdm(range(100)):\n",
    "    svm.fit(X_train, y_train)"
   ]
  },
  {
   "cell_type": "code",
   "execution_count": null,
   "id": "72fbc699",
   "metadata": {},
   "outputs": [],
   "source": [
    "%%time\n",
    "preds = svm.predict(X_test)"
   ]
  },
  {
   "cell_type": "code",
   "execution_count": null,
   "id": "e52b966b",
   "metadata": {},
   "outputs": [],
   "source": [
    "# get the confusion matrix\n",
    "cm = confusion_matrix(y_test, preds)\n",
    "\n",
    "# display the confusion matrix\n",
    "disp = ConfusionMatrixDisplay(confusion_matrix=cm, display_labels=y[1])\n",
    "disp.plot()"
   ]
  },
  {
   "cell_type": "code",
   "execution_count": null,
   "id": "194e1af6",
   "metadata": {},
   "outputs": [],
   "source": [
    "print(classification_report(y_test, preds, target_names=y[1], zero_division=0))"
   ]
  },
  {
   "cell_type": "markdown",
   "id": "50549d38",
   "metadata": {},
   "source": [
    "### Use Best Parameters on 80/20 Split"
   ]
  },
  {
   "cell_type": "code",
   "execution_count": null,
   "id": "f9fec49a",
   "metadata": {},
   "outputs": [],
   "source": [
    "%%time\n",
    "\n",
    "# split data into training and testing sets 80/20\n",
    "X_train_bool, X_test_bool, y_train, y_test = train_test_split(bool_cols, y[0], test_size=0.2, stratify=y[0], random_state=42)\n",
    "X_train_non_bool, X_test_non_bool, _, _ = train_test_split(non_bool_cols, y[0], test_size=0.2, stratify=y[0], random_state=42)"
   ]
  },
  {
   "cell_type": "code",
   "execution_count": null,
   "id": "ae57bc7f",
   "metadata": {},
   "outputs": [],
   "source": [
    "# create a StandardScaler object and fit on the non-boolean training set only\n",
    "scaler = StandardScaler(with_mean=False)\n",
    "scaler.fit(X_train_non_bool)"
   ]
  },
  {
   "cell_type": "code",
   "execution_count": null,
   "id": "d7311021",
   "metadata": {},
   "outputs": [],
   "source": [
    "%%time\n",
    "# transform the non-boolean training and testing sets using the scaler\n",
    "X_train_non_bool_scaled = scaler.transform(X_train_non_bool)\n",
    "X_test_non_bool_scaled = scaler.transform(X_test_non_bool)"
   ]
  },
  {
   "cell_type": "code",
   "execution_count": null,
   "id": "c3c02b84",
   "metadata": {},
   "outputs": [],
   "source": [
    "%%time\n",
    "\n",
    "# Join Scaled and Non Scaled Columns X_train\n",
    "X_train = hstack([X_train_non_bool_scaled, csr_matrix(X_train_bool.values)])"
   ]
  },
  {
   "cell_type": "code",
   "execution_count": null,
   "id": "369f9bf8",
   "metadata": {},
   "outputs": [],
   "source": [
    "%%time\n",
    "# Join Scaled and Non Scaled Columns X_test\n",
    "X_test = hstack([X_test_non_bool_scaled, X_test_bool])"
   ]
  },
  {
   "cell_type": "code",
   "execution_count": null,
   "id": "5785797e",
   "metadata": {},
   "outputs": [],
   "source": [
    "%%time\n",
    "from sklearn.svm import LinearSVC, SVC\n",
    "from tqdm import tqdm\n",
    "\n",
    "svm = SVC(C=1., kernel='rbf', degree=2, gamma='scale', class_weight= 'balanced', cache_size=500)\n",
    "\n",
    "# train the classifier using the sample data and show a progress bar\n",
    "for i in tqdm(range(100)):\n",
    "    svm.fit(X_train, y_train)"
   ]
  },
  {
   "cell_type": "code",
   "execution_count": null,
   "id": "efdc51c6",
   "metadata": {},
   "outputs": [],
   "source": [
    "%%time\n",
    "preds = svm.predict(X_test)"
   ]
  },
  {
   "cell_type": "code",
   "execution_count": null,
   "id": "83324c42",
   "metadata": {},
   "outputs": [],
   "source": [
    "# get the confusion matrix\n",
    "cm = confusion_matrix(y_test, preds)\n",
    "\n",
    "# display the confusion matrix\n",
    "disp = ConfusionMatrixDisplay(confusion_matrix=cm, display_labels=y[1])\n",
    "disp.plot()"
   ]
  },
  {
   "cell_type": "code",
   "execution_count": null,
   "id": "99961d3f",
   "metadata": {},
   "outputs": [],
   "source": [
    "print(classification_report(y_test, preds, target_names=y[1], zero_division=0))"
   ]
  }
 ],
 "metadata": {
  "kernelspec": {
   "display_name": "Python 3 (ipykernel)",
   "language": "python",
   "name": "python3"
  },
  "language_info": {
   "codemirror_mode": {
    "name": "ipython",
    "version": 3
   },
   "file_extension": ".py",
   "mimetype": "text/x-python",
   "name": "python",
   "nbconvert_exporter": "python",
   "pygments_lexer": "ipython3",
   "version": "3.9.13"
  }
 },
 "nbformat": 4,
 "nbformat_minor": 5
}
