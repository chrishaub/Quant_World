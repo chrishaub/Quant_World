{
 "cells": [
  {
   "cell_type": "code",
   "execution_count": 2,
   "id": "a6726f97",
   "metadata": {},
   "outputs": [],
   "source": [
    "import tensorflow as tf\n",
    "import pandas as pd\n",
    "import numpy as np"
   ]
  },
  {
   "cell_type": "code",
   "execution_count": 3,
   "id": "42c2e235",
   "metadata": {},
   "outputs": [],
   "source": [
    "data= pd.read_csv('/Users/alonsosalcido/Desktop/Quantifying the World/case 6/all_train.csv')"
   ]
  },
  {
   "cell_type": "code",
   "execution_count": 4,
   "id": "bd6b0aae",
   "metadata": {},
   "outputs": [
    {
     "data": {
      "text/html": [
       "<div>\n",
       "<style scoped>\n",
       "    .dataframe tbody tr th:only-of-type {\n",
       "        vertical-align: middle;\n",
       "    }\n",
       "\n",
       "    .dataframe tbody tr th {\n",
       "        vertical-align: top;\n",
       "    }\n",
       "\n",
       "    .dataframe thead th {\n",
       "        text-align: right;\n",
       "    }\n",
       "</style>\n",
       "<table border=\"1\" class=\"dataframe\">\n",
       "  <thead>\n",
       "    <tr style=\"text-align: right;\">\n",
       "      <th></th>\n",
       "      <th># label</th>\n",
       "      <th>f0</th>\n",
       "      <th>f1</th>\n",
       "      <th>f2</th>\n",
       "      <th>f3</th>\n",
       "      <th>f4</th>\n",
       "      <th>f5</th>\n",
       "      <th>f6</th>\n",
       "      <th>f7</th>\n",
       "      <th>f8</th>\n",
       "      <th>...</th>\n",
       "      <th>f18</th>\n",
       "      <th>f19</th>\n",
       "      <th>f20</th>\n",
       "      <th>f21</th>\n",
       "      <th>f22</th>\n",
       "      <th>f23</th>\n",
       "      <th>f24</th>\n",
       "      <th>f25</th>\n",
       "      <th>f26</th>\n",
       "      <th>mass</th>\n",
       "    </tr>\n",
       "  </thead>\n",
       "  <tbody>\n",
       "    <tr>\n",
       "      <th>0</th>\n",
       "      <td>1.0</td>\n",
       "      <td>-0.346368</td>\n",
       "      <td>0.416306</td>\n",
       "      <td>0.999236</td>\n",
       "      <td>0.475342</td>\n",
       "      <td>0.427493</td>\n",
       "      <td>-0.005984</td>\n",
       "      <td>1.989833</td>\n",
       "      <td>0.344530</td>\n",
       "      <td>1.566297</td>\n",
       "      <td>...</td>\n",
       "      <td>4.105282</td>\n",
       "      <td>0.267826</td>\n",
       "      <td>0.378718</td>\n",
       "      <td>1.743123</td>\n",
       "      <td>3.406367</td>\n",
       "      <td>4.350537</td>\n",
       "      <td>-0.352571</td>\n",
       "      <td>1.130032</td>\n",
       "      <td>2.227706</td>\n",
       "      <td>1000.0</td>\n",
       "    </tr>\n",
       "    <tr>\n",
       "      <th>1</th>\n",
       "      <td>1.0</td>\n",
       "      <td>1.708236</td>\n",
       "      <td>-0.319394</td>\n",
       "      <td>-1.241873</td>\n",
       "      <td>-0.887231</td>\n",
       "      <td>-0.871906</td>\n",
       "      <td>-0.005984</td>\n",
       "      <td>-0.001047</td>\n",
       "      <td>-1.038225</td>\n",
       "      <td>0.655748</td>\n",
       "      <td>...</td>\n",
       "      <td>-1.178141</td>\n",
       "      <td>-0.877361</td>\n",
       "      <td>-1.483769</td>\n",
       "      <td>-0.573682</td>\n",
       "      <td>-1.693781</td>\n",
       "      <td>-0.545062</td>\n",
       "      <td>-0.299118</td>\n",
       "      <td>-0.662942</td>\n",
       "      <td>-0.193019</td>\n",
       "      <td>750.0</td>\n",
       "    </tr>\n",
       "    <tr>\n",
       "      <th>2</th>\n",
       "      <td>0.0</td>\n",
       "      <td>-0.360693</td>\n",
       "      <td>1.794174</td>\n",
       "      <td>0.264738</td>\n",
       "      <td>-0.472273</td>\n",
       "      <td>-0.292344</td>\n",
       "      <td>-1.054221</td>\n",
       "      <td>-1.150495</td>\n",
       "      <td>1.423404</td>\n",
       "      <td>1.270098</td>\n",
       "      <td>...</td>\n",
       "      <td>-1.199511</td>\n",
       "      <td>0.539020</td>\n",
       "      <td>-1.590629</td>\n",
       "      <td>-0.573682</td>\n",
       "      <td>-0.543636</td>\n",
       "      <td>-0.937456</td>\n",
       "      <td>-0.300344</td>\n",
       "      <td>-0.523262</td>\n",
       "      <td>-1.506304</td>\n",
       "      <td>750.0</td>\n",
       "    </tr>\n",
       "    <tr>\n",
       "      <th>3</th>\n",
       "      <td>1.0</td>\n",
       "      <td>-0.377914</td>\n",
       "      <td>-0.103932</td>\n",
       "      <td>-0.649434</td>\n",
       "      <td>-2.125015</td>\n",
       "      <td>-1.643797</td>\n",
       "      <td>-0.005984</td>\n",
       "      <td>1.011112</td>\n",
       "      <td>-1.040340</td>\n",
       "      <td>-0.541991</td>\n",
       "      <td>...</td>\n",
       "      <td>0.463763</td>\n",
       "      <td>-0.006583</td>\n",
       "      <td>1.089122</td>\n",
       "      <td>-0.573682</td>\n",
       "      <td>-0.276348</td>\n",
       "      <td>-0.409272</td>\n",
       "      <td>-0.349926</td>\n",
       "      <td>-0.307123</td>\n",
       "      <td>0.529698</td>\n",
       "      <td>1250.0</td>\n",
       "    </tr>\n",
       "    <tr>\n",
       "      <th>4</th>\n",
       "      <td>0.0</td>\n",
       "      <td>-0.067436</td>\n",
       "      <td>-0.636762</td>\n",
       "      <td>-0.620166</td>\n",
       "      <td>-0.062551</td>\n",
       "      <td>1.588715</td>\n",
       "      <td>-0.005984</td>\n",
       "      <td>-0.595304</td>\n",
       "      <td>-1.238987</td>\n",
       "      <td>0.336844</td>\n",
       "      <td>...</td>\n",
       "      <td>-0.552837</td>\n",
       "      <td>-1.418494</td>\n",
       "      <td>-0.562982</td>\n",
       "      <td>1.743123</td>\n",
       "      <td>0.881802</td>\n",
       "      <td>0.002516</td>\n",
       "      <td>1.560950</td>\n",
       "      <td>-0.150760</td>\n",
       "      <td>-1.023889</td>\n",
       "      <td>750.0</td>\n",
       "    </tr>\n",
       "  </tbody>\n",
       "</table>\n",
       "<p>5 rows × 29 columns</p>\n",
       "</div>"
      ],
      "text/plain": [
       "   # label        f0        f1        f2        f3        f4        f5  \\\n",
       "0      1.0 -0.346368  0.416306  0.999236  0.475342  0.427493 -0.005984   \n",
       "1      1.0  1.708236 -0.319394 -1.241873 -0.887231 -0.871906 -0.005984   \n",
       "2      0.0 -0.360693  1.794174  0.264738 -0.472273 -0.292344 -1.054221   \n",
       "3      1.0 -0.377914 -0.103932 -0.649434 -2.125015 -1.643797 -0.005984   \n",
       "4      0.0 -0.067436 -0.636762 -0.620166 -0.062551  1.588715 -0.005984   \n",
       "\n",
       "         f6        f7        f8  ...       f18       f19       f20       f21  \\\n",
       "0  1.989833  0.344530  1.566297  ...  4.105282  0.267826  0.378718  1.743123   \n",
       "1 -0.001047 -1.038225  0.655748  ... -1.178141 -0.877361 -1.483769 -0.573682   \n",
       "2 -1.150495  1.423404  1.270098  ... -1.199511  0.539020 -1.590629 -0.573682   \n",
       "3  1.011112 -1.040340 -0.541991  ...  0.463763 -0.006583  1.089122 -0.573682   \n",
       "4 -0.595304 -1.238987  0.336844  ... -0.552837 -1.418494 -0.562982  1.743123   \n",
       "\n",
       "        f22       f23       f24       f25       f26    mass  \n",
       "0  3.406367  4.350537 -0.352571  1.130032  2.227706  1000.0  \n",
       "1 -1.693781 -0.545062 -0.299118 -0.662942 -0.193019   750.0  \n",
       "2 -0.543636 -0.937456 -0.300344 -0.523262 -1.506304   750.0  \n",
       "3 -0.276348 -0.409272 -0.349926 -0.307123  0.529698  1250.0  \n",
       "4  0.881802  0.002516  1.560950 -0.150760 -1.023889   750.0  \n",
       "\n",
       "[5 rows x 29 columns]"
      ]
     },
     "execution_count": 4,
     "metadata": {},
     "output_type": "execute_result"
    }
   ],
   "source": [
    "data.head()"
   ]
  },
  {
   "cell_type": "code",
   "execution_count": 5,
   "id": "4c625120",
   "metadata": {},
   "outputs": [
    {
     "data": {
      "text/plain": [
       "7000000"
      ]
     },
     "execution_count": 5,
     "metadata": {},
     "output_type": "execute_result"
    }
   ],
   "source": [
    "len(data)"
   ]
  },
  {
   "cell_type": "code",
   "execution_count": 6,
   "id": "460a3526",
   "metadata": {},
   "outputs": [],
   "source": [
    "#Split Dataset into X and Y\n",
    "x= data.iloc[:,1:]\n",
    "y= data.iloc[:,:1]"
   ]
  },
  {
   "cell_type": "code",
   "execution_count": 7,
   "id": "889645f1",
   "metadata": {},
   "outputs": [],
   "source": [
    "from sklearn.preprocessing import StandardScaler\n",
    "scaler= StandardScaler()\n",
    "scaled_data= scaler.fit_transform(x)"
   ]
  },
  {
   "cell_type": "code",
   "execution_count": 8,
   "id": "952f923a",
   "metadata": {},
   "outputs": [
    {
     "data": {
      "text/plain": [
       "(7000000, 28)"
      ]
     },
     "execution_count": 8,
     "metadata": {},
     "output_type": "execute_result"
    }
   ],
   "source": [
    "# Look at input Shape\n",
    "scaled_data.shape"
   ]
  },
  {
   "cell_type": "code",
   "execution_count": 9,
   "id": "ccc5327d",
   "metadata": {},
   "outputs": [
    {
     "data": {
      "image/png": "[encoded data removed]",
      "text/plain": [
       "<Figure size 504x576 with 1 Axes>"
      ]
     },
     "metadata": {
      "needs_background": "light"
     },
     "output_type": "display_data"
    },
    {
     "name": "stdout",
     "output_type": "stream",
     "text": [
      "# label\n",
      "1.0        50.012557\n",
      "0.0        49.987443\n",
      "dtype: float64\n"
     ]
    }
   ],
   "source": [
    "import matplotlib.pyplot as plt\n",
    "# Compute the frequency of each color value and divide by the total count to get percentages\n",
    "counts = y.value_counts(normalize=True) * 100\n",
    "\n",
    "# Set Fig Size\n",
    "fig, ax = plt.subplots(figsize=(7, 8))\n",
    "\n",
    "# Create a bar plot of the result\n",
    "ax = counts.plot(kind='bar', rot=0)\n",
    "\n",
    "# Add labels and a title to the plot\n",
    "ax.set_xlabel('Label')\n",
    "ax.set_ylabel('Percentage')\n",
    "ax.set_title('Percentage of Label')\n",
    "\n",
    "\n",
    "# Display the plot\n",
    "plt.show()\n",
    "print(counts)"
   ]
  },
  {
   "cell_type": "markdown",
   "id": "e4f0c826",
   "metadata": {},
   "source": [
    "## Reduce dataset to test parameters"
   ]
  },
  {
   "cell_type": "code",
   "execution_count": 10,
   "id": "5c42e4f0",
   "metadata": {},
   "outputs": [],
   "source": [
    "from sklearn.model_selection import train_test_split\n",
    "\n",
    "reduced_x, large_x = train_test_split(scaled_data, test_size=0.7, random_state=42)\n",
    "reduced_y, large_y = train_test_split(y, test_size=0.7, random_state=42)"
   ]
  },
  {
   "cell_type": "code",
   "execution_count": 10,
   "id": "f04a2ca0",
   "metadata": {},
   "outputs": [],
   "source": [
    "#Save Reduced Dataset\n",
    "import pickle\n",
    "\n",
    "# Save the DataFrame to a file\n",
    "with open('reduced_x.pickle', 'wb') as f:\n",
    "    pickle.dump(reduced_x, f)\n",
    "with open('reduced_y.pickle', 'wb') as f:\n",
    "    pickle.dump(reduced_y, f)"
   ]
  },
  {
   "cell_type": "code",
   "execution_count": 1,
   "id": "5944f82a",
   "metadata": {},
   "outputs": [],
   "source": [
    "import pickle\n",
    "# Load the saved DataFrame from the file\n",
    "with open('reduced_x.pickle', 'rb') as f:\n",
    "    reduced_x = pickle.load(f)\n",
    "# Load the saved DataFrame from the file\n",
    "with open('reduced_y.pickle', 'rb') as f:\n",
    "    reduced_y = pickle.load(f)"
   ]
  },
  {
   "cell_type": "code",
   "execution_count": 44,
   "id": "1c6445fe",
   "metadata": {},
   "outputs": [],
   "source": [
    "#Split Reduced Dataset 80/20\n",
    "from sklearn.model_selection import train_test_split\n",
    "\n",
    "X_train, X_test, y_train, y_test = train_test_split(reduced_x, reduced_y, test_size=0.8, random_state=42)"
   ]
  },
  {
   "cell_type": "code",
   "execution_count": 13,
   "id": "c68b6443",
   "metadata": {},
   "outputs": [],
   "source": [
    "# Sequential Models Knows in what order to connect layers sequentially\n",
    "model= tf.keras.Sequential()\n",
    "\n",
    "model.add(tf.keras.Input(shape=(28,)))\n",
    "model.add(tf.keras.layers.Dense(100, activation='sigmoid'))\n",
    "model.add(tf.keras.layers.Dense(50, activation='sigmoid'))\n",
    "model.add(tf.keras.layers.Dense(1, activation='sigmoid'))"
   ]
  },
  {
   "cell_type": "code",
   "execution_count": 14,
   "id": "a1220a87",
   "metadata": {},
   "outputs": [],
   "source": [
    "model.compile(optimizer='sgd', loss='BinaryCrossentropy', metrics=['accuracy'])"
   ]
  },
  {
   "cell_type": "code",
   "execution_count": 19,
   "id": "a7d9ca01",
   "metadata": {},
   "outputs": [
    {
     "name": "stdout",
     "output_type": "stream",
     "text": [
      "Epoch 1/2\n",
      "140000/140000 [==============================] - 191s 1ms/step - loss: 0.2828 - accuracy: 0.8699\n",
      "Epoch 2/2\n",
      "140000/140000 [==============================] - 167s 1ms/step - loss: 0.2815 - accuracy: 0.8705\n"
     ]
    },
    {
     "data": {
      "text/plain": [
       "<keras.callbacks.History at 0x7f80d845c130>"
      ]
     },
     "execution_count": 19,
     "metadata": {},
     "output_type": "execute_result"
    }
   ],
   "source": [
    "#Use train data to fit\n",
    "model.fit(reduced_x, reduced_y, epochs=2, batch_size=10)"
   ]
  },
  {
   "cell_type": "code",
   "execution_count": 24,
   "id": "4bbfe47c",
   "metadata": {},
   "outputs": [],
   "source": [
    "# Create New Layers\n",
    "model.add(tf.keras.Input(shape=(28,)))\n",
    "model.add(tf.keras.layers.Dense(100, activation='relu'))\n",
    "model.add(tf.keras.layers.Dense(50, activation='relu'))\n",
    "model.add(tf.keras.layers.Dense(1, activation='sigmoid'))"
   ]
  },
  {
   "cell_type": "code",
   "execution_count": 25,
   "id": "490fcabc",
   "metadata": {},
   "outputs": [],
   "source": [
    "model.compile(optimizer='adam', loss='BinaryCrossentropy', metrics=['accuracy'])"
   ]
  },
  {
   "cell_type": "code",
   "execution_count": 26,
   "id": "5fe1782b",
   "metadata": {},
   "outputs": [
    {
     "name": "stdout",
     "output_type": "stream",
     "text": [
      "Epoch 1/2\n",
      "140000/140000 [==============================] - 219s 2ms/step - loss: 0.2906 - accuracy: 0.8665\n",
      "Epoch 2/2\n",
      "140000/140000 [==============================] - 198s 1ms/step - loss: 0.2807 - accuracy: 0.8721\n"
     ]
    },
    {
     "data": {
      "text/plain": [
       "<keras.callbacks.History at 0x7f8077f049a0>"
      ]
     },
     "execution_count": 26,
     "metadata": {},
     "output_type": "execute_result"
    }
   ],
   "source": [
    "#Use train data to fit\n",
    "model.fit(reduced_x, reduced_y, epochs=2, batch_size=10)"
   ]
  },
  {
   "cell_type": "code",
   "execution_count": 27,
   "id": "ae58a718",
   "metadata": {},
   "outputs": [],
   "source": [
    "# New Layers\n",
    "model.add(tf.keras.Input(shape=(28,)))\n",
    "model.add(tf.keras.layers.Dense(50, activation='relu'))\n",
    "model.add(tf.keras.layers.Dense(100, activation='relu'))\n",
    "model.add(tf.keras.layers.Dense(1, activation='sigmoid'))"
   ]
  },
  {
   "cell_type": "code",
   "execution_count": 31,
   "id": "d1555a2e",
   "metadata": {},
   "outputs": [],
   "source": [
    "model.compile(optimizer='adam', loss='binary_crossentropy', metrics=['accuracy'])"
   ]
  },
  {
   "cell_type": "code",
   "execution_count": 29,
   "id": "13b2199c",
   "metadata": {},
   "outputs": [
    {
     "name": "stdout",
     "output_type": "stream",
     "text": [
      "Epoch 1/2\n",
      "93334/93334 [==============================] - 165s 2ms/step - loss: 0.2784 - accuracy: 0.8737\n",
      "Epoch 2/2\n",
      "93334/93334 [==============================] - 160s 2ms/step - loss: 0.2750 - accuracy: 0.8756\n"
     ]
    },
    {
     "data": {
      "text/plain": [
       "<keras.callbacks.History at 0x7f80d75bea30>"
      ]
     },
     "execution_count": 29,
     "metadata": {},
     "output_type": "execute_result"
    }
   ],
   "source": [
    "#Use train data to fit\n",
    "model.fit(reduced_x, reduced_y, epochs=2, batch_size=15)"
   ]
  },
  {
   "cell_type": "code",
   "execution_count": 11,
   "id": "b07a2e3e",
   "metadata": {},
   "outputs": [],
   "source": [
    "from tensorflow.keras.callbacks import TensorBoard\n",
    "from time import time\n",
    "\n",
    "tb = TensorBoard(log_dir=f\"logs\\\\{time()}\")"
   ]
  },
  {
   "cell_type": "code",
   "execution_count": 13,
   "id": "2fa92a97",
   "metadata": {},
   "outputs": [],
   "source": [
    "from tensorflow.keras.callbacks import EarlyStopping\n",
    "safety = EarlyStopping(monitor='val_loss', patience=1)"
   ]
  },
  {
   "cell_type": "code",
   "execution_count": 22,
   "id": "21e44fbf",
   "metadata": {},
   "outputs": [],
   "source": [
    "# Add an Extra Layer\n",
    "model= tf.keras.Sequential()\n",
    "model.add(tf.keras.Input(shape=(28,)))\n",
    "model.add(tf.keras.layers.Dense(100, activation='relu'))\n",
    "model.add(tf.keras.layers.Dense(100, activation='relu'))\n",
    "model.add(tf.keras.layers.Dense(100, activation='relu'))\n",
    "model.add(tf.keras.layers.Dense(1, activation='sigmoid'))"
   ]
  },
  {
   "cell_type": "code",
   "execution_count": 23,
   "id": "500c934e",
   "metadata": {},
   "outputs": [],
   "source": [
    "model.compile(optimizer='adam', loss='binary_crossentropy', metrics=['accuracy'])"
   ]
  },
  {
   "cell_type": "code",
   "execution_count": 24,
   "id": "d628e6f1",
   "metadata": {},
   "outputs": [
    {
     "name": "stdout",
     "output_type": "stream",
     "text": [
      "Epoch 1/100\n",
      "28000/28000 [==============================] - 177s 6ms/step - loss: 0.3325 - accuracy: 0.8425 - val_loss: 0.3026 - val_accuracy: 0.8567\n",
      "Epoch 2/100\n",
      "28000/28000 [==============================] - 166s 6ms/step - loss: 0.3042 - accuracy: 0.8578 - val_loss: 0.2951 - val_accuracy: 0.8629\n",
      "Epoch 3/100\n",
      "28000/28000 [==============================] - 168s 6ms/step - loss: 0.2970 - accuracy: 0.8622 - val_loss: 0.2954 - val_accuracy: 0.8636\n"
     ]
    },
    {
     "data": {
      "text/plain": [
       "<keras.callbacks.History at 0x7fdadc7f6e50>"
      ]
     },
     "execution_count": 24,
     "metadata": {},
     "output_type": "execute_result"
    }
   ],
   "source": [
    "#Fit Model and Apply Early Stopping\n",
    "model.fit(X_train, y_train, epochs=100, validation_data=(X_test, y_test), batch_size=15, callbacks=[tb, safety])"
   ]
  },
  {
   "cell_type": "code",
   "execution_count": 9,
   "id": "b84127ca",
   "metadata": {},
   "outputs": [],
   "source": [
    "# Define Model\n",
    "model= tf.keras.Sequential()\n",
    "model.add(tf.keras.Input(shape=(28,)))\n",
    "model.add(tf.keras.layers.Dense(30, activation='relu'))\n",
    "model.add(tf.keras.layers.Dense(40, activation='relu'))\n",
    "model.add(tf.keras.layers.Dense(60, activation='relu'))\n",
    "model.add(tf.keras.layers.Dense(100, activation='relu'))\n",
    "model.add(tf.keras.layers.Dense(1, activation='sigmoid'))\n",
    "model.compile(optimizer='adam', loss='binary_crossentropy', metrics=['accuracy'])"
   ]
  },
  {
   "cell_type": "code",
   "execution_count": 14,
   "id": "3f00743a",
   "metadata": {},
   "outputs": [
    {
     "name": "stdout",
     "output_type": "stream",
     "text": [
      "Epoch 1/100\n",
      "28000/28000 [==============================] - 146s 5ms/step - loss: 0.3084 - accuracy: 0.8559 - val_loss: 0.2918 - val_accuracy: 0.8650\n",
      "Epoch 2/100\n",
      "28000/28000 [==============================] - 142s 5ms/step - loss: 0.2909 - accuracy: 0.8662 - val_loss: 0.2878 - val_accuracy: 0.8689\n",
      "Epoch 3/100\n",
      "28000/28000 [==============================] - 165s 6ms/step - loss: 0.2860 - accuracy: 0.8697 - val_loss: 0.2818 - val_accuracy: 0.8709\n",
      "Epoch 4/100\n",
      "28000/28000 [==============================] - 144s 5ms/step - loss: 0.2833 - accuracy: 0.8712 - val_loss: 0.2820 - val_accuracy: 0.8715\n"
     ]
    },
    {
     "data": {
      "text/plain": [
       "<keras.callbacks.History at 0x7f95da67a910>"
      ]
     },
     "execution_count": 14,
     "metadata": {},
     "output_type": "execute_result"
    }
   ],
   "source": [
    "#Fit Model and Apply Early Stopping\n",
    "model.fit(X_train, y_train, epochs=100, validation_data=(X_test, y_test), batch_size=15, callbacks=[tb, safety])"
   ]
  },
  {
   "cell_type": "code",
   "execution_count": 18,
   "id": "6b728e3e",
   "metadata": {},
   "outputs": [],
   "source": [
    "import tensorflow as tf\n",
    "from tensorflow import keras\n",
    "from tensorflow.keras import layers\n",
    "from tensorflow.keras.regularizers import l2"
   ]
  },
  {
   "cell_type": "code",
   "execution_count": 19,
   "id": "24a818a8",
   "metadata": {},
   "outputs": [],
   "source": [
    "# Add an Extra Layer\n",
    "model.add(tf.keras.Input(shape=(28,)))\n",
    "model.add(tf.keras.layers.Dense(30, activation='relu', kernel_regularizer=l2(0.001)))\n",
    "model.add(tf.keras.layers.Dense(40, activation='relu', kernel_regularizer=l2(0.001)))\n",
    "model.add(tf.keras.layers.Dense(60, activation='relu', kernel_regularizer=l2(0.001)))\n",
    "model.add(tf.keras.layers.Dense(100, activation='relu', kernel_regularizer=l2(0.001)))\n",
    "model.add(tf.keras.layers.Dense(1, activation='sigmoid'))\n",
    "model.compile(optimizer='adam', loss='binary_crossentropy', metrics=['accuracy'])"
   ]
  },
  {
   "cell_type": "code",
   "execution_count": 20,
   "id": "bba84707",
   "metadata": {},
   "outputs": [],
   "source": [
    "# Define Early Stopping Parameters\n",
    "safety = EarlyStopping(monitor='val_loss', patience=2)"
   ]
  },
  {
   "cell_type": "code",
   "execution_count": 22,
   "id": "63726200",
   "metadata": {},
   "outputs": [
    {
     "name": "stdout",
     "output_type": "stream",
     "text": [
      "Epoch 1/1000\n",
      "28000/28000 [==============================] - 186s 7ms/step - loss: 0.2953 - accuracy: 0.8701 - val_loss: 0.2902 - val_accuracy: 0.8717\n",
      "Epoch 2/1000\n",
      "28000/28000 [==============================] - 181s 6ms/step - loss: 0.2928 - accuracy: 0.8707 - val_loss: 0.2915 - val_accuracy: 0.8712\n",
      "Epoch 3/1000\n",
      "28000/28000 [==============================] - 188s 7ms/step - loss: 0.2908 - accuracy: 0.8720 - val_loss: 0.2855 - val_accuracy: 0.8735\n",
      "Epoch 4/1000\n",
      "28000/28000 [==============================] - 179s 6ms/step - loss: 0.2895 - accuracy: 0.8726 - val_loss: 0.2853 - val_accuracy: 0.8744\n",
      "Epoch 5/1000\n",
      "28000/28000 [==============================] - 176s 6ms/step - loss: 0.2883 - accuracy: 0.8731 - val_loss: 0.2885 - val_accuracy: 0.8723\n",
      "Epoch 6/1000\n",
      "28000/28000 [==============================] - 172s 6ms/step - loss: 0.2884 - accuracy: 0.8728 - val_loss: 0.2843 - val_accuracy: 0.8753\n",
      "Epoch 7/1000\n",
      "28000/28000 [==============================] - 193s 7ms/step - loss: 0.2878 - accuracy: 0.8727 - val_loss: 0.2863 - val_accuracy: 0.8730\n",
      "Epoch 8/1000\n",
      "28000/28000 [==============================] - 192s 7ms/step - loss: 0.2875 - accuracy: 0.8734 - val_loss: 0.3014 - val_accuracy: 0.8747\n"
     ]
    },
    {
     "data": {
      "text/plain": [
       "<keras.callbacks.History at 0x7f95b0412f70>"
      ]
     },
     "execution_count": 22,
     "metadata": {},
     "output_type": "execute_result"
    }
   ],
   "source": [
    "#Fit Model and Apply Early Stopping\n",
    "model.fit(X_train, y_train, epochs=1000, validation_data=(X_test, y_test), batch_size=15, callbacks=[tb, safety])"
   ]
  },
  {
   "cell_type": "code",
   "execution_count": 23,
   "id": "00529f25",
   "metadata": {},
   "outputs": [],
   "source": [
    "# Define Model Layers\n",
    "model.add(tf.keras.Input(shape=(28,)))\n",
    "model.add(tf.keras.layers.Dense(50, activation='relu', kernel_regularizer=l2(0.001)))\n",
    "model.add(tf.keras.layers.Dense(80, activation='relu', kernel_regularizer=l2(0.001)))\n",
    "model.add(tf.keras.layers.Dense(100, activation='relu', kernel_regularizer=l2(0.001)))\n",
    "model.add(tf.keras.layers.Dense(100, activation='relu', kernel_regularizer=l2(0.001)))\n",
    "model.add(tf.keras.layers.Dense(100, activation='relu', kernel_regularizer=l2(0.001)))\n",
    "model.add(tf.keras.layers.Dense(100, activation='relu', kernel_regularizer=l2(0.001)))\n",
    "model.add(tf.keras.layers.Dense(100, activation='relu', kernel_regularizer=l2(0.001)))\n",
    "model.add(tf.keras.layers.Dense(100, activation='relu', kernel_regularizer=l2(0.001)))\n",
    "model.add(tf.keras.layers.Dense(1, activation='sigmoid'))\n",
    "model.compile(optimizer='SGD', loss='binary_crossentropy', metrics=['accuracy'])"
   ]
  },
  {
   "cell_type": "code",
   "execution_count": 24,
   "id": "f4dd319e",
   "metadata": {},
   "outputs": [
    {
     "name": "stdout",
     "output_type": "stream",
     "text": [
      "Epoch 1/1000\n",
      "28000/28000 [==============================] - 199s 7ms/step - loss: 0.4536 - accuracy: 0.8719 - val_loss: 0.3894 - val_accuracy: 0.8673\n",
      "Epoch 2/1000\n",
      "28000/28000 [==============================] - 177s 6ms/step - loss: 0.3447 - accuracy: 0.8736 - val_loss: 0.3169 - val_accuracy: 0.8765\n",
      "Epoch 3/1000\n",
      "28000/28000 [==============================] - 179s 6ms/step - loss: 0.3110 - accuracy: 0.8736 - val_loss: 0.3011 - val_accuracy: 0.8758\n",
      "Epoch 4/1000\n",
      "28000/28000 [==============================] - 176s 6ms/step - loss: 0.2993 - accuracy: 0.8742 - val_loss: 0.2940 - val_accuracy: 0.8761\n",
      "Epoch 5/1000\n",
      "28000/28000 [==============================] - 191s 7ms/step - loss: 0.2955 - accuracy: 0.8739 - val_loss: 0.2905 - val_accuracy: 0.8763\n",
      "Epoch 6/1000\n",
      "28000/28000 [==============================] - 176s 6ms/step - loss: 0.2940 - accuracy: 0.8740 - val_loss: 0.2880 - val_accuracy: 0.8766\n",
      "Epoch 7/1000\n",
      "28000/28000 [==============================] - 184s 7ms/step - loss: 0.2930 - accuracy: 0.8745 - val_loss: 0.2876 - val_accuracy: 0.8768\n",
      "Epoch 8/1000\n",
      "28000/28000 [==============================] - 178s 6ms/step - loss: 0.2928 - accuracy: 0.8745 - val_loss: 0.2909 - val_accuracy: 0.8766\n",
      "Epoch 9/1000\n",
      "28000/28000 [==============================] - 179s 6ms/step - loss: 0.2923 - accuracy: 0.8745 - val_loss: 0.2887 - val_accuracy: 0.8770\n"
     ]
    },
    {
     "data": {
      "text/plain": [
       "<keras.callbacks.History at 0x7f95fb644dc0>"
      ]
     },
     "execution_count": 24,
     "metadata": {},
     "output_type": "execute_result"
    }
   ],
   "source": [
    "#Fit Model and Apply Early Stopping\n",
    "model.fit(X_train, y_train, epochs=1000, validation_data=(X_test, y_test), batch_size=15, callbacks=[tb, safety])"
   ]
  },
  {
   "cell_type": "markdown",
   "id": "8df7cf20",
   "metadata": {},
   "source": [
    "# Fit Model On 80/20 Split"
   ]
  },
  {
   "cell_type": "code",
   "execution_count": 10,
   "id": "332521b8",
   "metadata": {},
   "outputs": [],
   "source": [
    "from sklearn.model_selection import train_test_split\n",
    "\n",
    "X_train, X_test, y_train, y_test = train_test_split(scaled_data, y, test_size=0.8, random_state=42)"
   ]
  },
  {
   "cell_type": "code",
   "execution_count": 11,
   "id": "bb10558d",
   "metadata": {},
   "outputs": [
    {
     "data": {
      "text/plain": [
       "(1400000, 28)"
      ]
     },
     "execution_count": 11,
     "metadata": {},
     "output_type": "execute_result"
    }
   ],
   "source": [
    "X_train.shape"
   ]
  },
  {
   "cell_type": "code",
   "execution_count": 12,
   "id": "af842d60",
   "metadata": {},
   "outputs": [
    {
     "data": {
      "text/plain": [
       "(5600000, 28)"
      ]
     },
     "execution_count": 12,
     "metadata": {},
     "output_type": "execute_result"
    }
   ],
   "source": [
    "X_test.shape"
   ]
  },
  {
   "cell_type": "code",
   "execution_count": 13,
   "id": "23745f91",
   "metadata": {},
   "outputs": [],
   "source": [
    "import tensorflow as tf\n",
    "from tensorflow import keras\n",
    "from tensorflow.keras import layers\n",
    "from tensorflow.keras.regularizers import l2\n",
    "from tensorflow.keras.callbacks import TensorBoard\n",
    "from time import time\n",
    "\n",
    "tb = TensorBoard(log_dir=f\"logs\\\\{time()}\")"
   ]
  },
  {
   "cell_type": "code",
   "execution_count": 14,
   "id": "d86c2543",
   "metadata": {},
   "outputs": [],
   "source": [
    "# Define Model Layers\n",
    "model= tf.keras.Sequential()\n",
    "model.add(tf.keras.Input(shape=(28,)))\n",
    "model.add(tf.keras.layers.Dense(50, activation='relu', kernel_regularizer=l2(0.001)))\n",
    "model.add(tf.keras.layers.Dense(80, activation='relu', kernel_regularizer=l2(0.001)))\n",
    "model.add(tf.keras.layers.Dense(100, activation='relu', kernel_regularizer=l2(0.001)))\n",
    "model.add(tf.keras.layers.Dense(100, activation='relu', kernel_regularizer=l2(0.001)))\n",
    "model.add(tf.keras.layers.Dense(100, activation='relu', kernel_regularizer=l2(0.001)))\n",
    "model.add(tf.keras.layers.Dense(100, activation='relu', kernel_regularizer=l2(0.001)))\n",
    "model.add(tf.keras.layers.Dense(100, activation='relu', kernel_regularizer=l2(0.001)))\n",
    "model.add(tf.keras.layers.Dense(100, activation='relu', kernel_regularizer=l2(0.001)))\n",
    "model.add(tf.keras.layers.Dense(1, activation='sigmoid'))\n",
    "model.compile(optimizer='SGD', loss='binary_crossentropy', metrics=['accuracy'])"
   ]
  },
  {
   "cell_type": "code",
   "execution_count": 15,
   "id": "db37b0b2",
   "metadata": {},
   "outputs": [],
   "source": [
    "# Define Early Stopping Parameters\n",
    "\n",
    "from tensorflow.keras.callbacks import EarlyStopping\n",
    "safety = EarlyStopping(monitor='val_loss', patience=1)"
   ]
  },
  {
   "cell_type": "code",
   "execution_count": 16,
   "id": "0d4d2ec9",
   "metadata": {},
   "outputs": [
    {
     "name": "stdout",
     "output_type": "stream",
     "text": [
      "Epoch 1/1000\n",
      "93334/93334 [==============================] - 554s 6ms/step - loss: 0.5035 - accuracy: 0.8570 - val_loss: 0.3287 - val_accuracy: 0.8661\n",
      "Epoch 2/1000\n",
      "93334/93334 [==============================] - 556s 6ms/step - loss: 0.3195 - accuracy: 0.8646 - val_loss: 0.3130 - val_accuracy: 0.8669\n",
      "Epoch 3/1000\n",
      "93334/93334 [==============================] - 625s 7ms/step - loss: 0.3131 - accuracy: 0.8660 - val_loss: 0.3074 - val_accuracy: 0.8690\n",
      "Epoch 4/1000\n",
      "93334/93334 [==============================] - 552s 6ms/step - loss: 0.3121 - accuracy: 0.8663 - val_loss: 0.3086 - val_accuracy: 0.8686\n"
     ]
    },
    {
     "data": {
      "text/plain": [
       "<keras.callbacks.History at 0x7fd33822de80>"
      ]
     },
     "execution_count": 16,
     "metadata": {},
     "output_type": "execute_result"
    }
   ],
   "source": [
    "#Fit Model and Apply Early Stopping\n",
    "model.fit(X_train, y_train, epochs=1000, validation_data=(X_test, y_test), batch_size=15, callbacks=[tb, safety])"
   ]
  }
 ],
 "metadata": {
  "kernelspec": {
   "display_name": "Python 3 (ipykernel)",
   "language": "python",
   "name": "python3"
  },
  "language_info": {
   "codemirror_mode": {
    "name": "ipython",
    "version": 3
   },
   "file_extension": ".py",
   "mimetype": "text/x-python",
   "name": "python",
   "nbconvert_exporter": "python",
   "pygments_lexer": "ipython3",
   "version": "3.9.16"
  }
 },
 "nbformat": 4,
 "nbformat_minor": 5
}
